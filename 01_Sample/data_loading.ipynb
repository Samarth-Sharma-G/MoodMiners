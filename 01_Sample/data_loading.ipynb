{
 "cells": [
  {
   "cell_type": "code",
   "execution_count": null,
   "metadata": {},
   "outputs": [],
   "source": [
    "import zipfile\n",
    "import os\n",
    "# Mood Miners Emotion Detection Project\n",
    "# Description: This file contains the code to load the data from the zip file\n",
    "\n",
    "# define the path to the zip file\n",
    "zip_path = \"/path/to/emotion_speech.zip\"\n",
    "\n",
    "# define the directory to extract the contents to\n",
    "extract_path = \"/path/to/emotion_speech\"\n",
    "\n",
    "# create the directory if it doesn't exist\n",
    "if not os.path.exists(extract_path):\n",
    "    os.makedirs(extract_path)\n",
    "\n",
    "# extract the contents of the zip file to the directory\n",
    "with zipfile.ZipFile(zip_path, 'r') as zip_ref:\n",
    "    zip_ref.extractall(extract_path)\n"
   ]
  }
 ],
 "metadata": {
  "language_info": {
   "name": "python"
  }
 },
 "nbformat": 4,
 "nbformat_minor": 2
}
