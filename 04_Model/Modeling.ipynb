{
  "cells": [
    {
      "cell_type": "markdown",
      "metadata": {},
      "source": [
        "# Modeling\n",
        "Our goal is to create a model that can predict the 'Emotion' feature taken from the audio data, using the emotional features provided from the Kaggle emotional prediction dataset, as well as general audio features generated and introducted later (by us) using the Librosa library and applied onto the .wav files that were provided alongside the label emotions from Kaggle."
      ]
    },
    {
      "cell_type": "markdown",
      "metadata": {
        "id": "pI6X7_FrU0_b"
      },
      "source": [
        "## Loading Preprocessed Data"
      ]
    },
    {
      "cell_type": "code",
      "execution_count": 1,
      "metadata": {
        "id": "1zAJ5z1dRNd2"
      },
      "outputs": [],
      "source": [
        "import pandas as pd\n",
        "\n",
        "file1 = '../03_Modify/data_emotional_intensity.csv'\n",
        "file2 = '../03_Modify/data_emotion.csv'\n",
        "# Save the DataFrame as a CSV file\n",
        "data_emotional_intensity = pd.read_csv(file1)\n",
        "data_emotion = pd.read_csv(file2)"
      ]
    },
    {
      "cell_type": "code",
      "execution_count": 2,
      "metadata": {},
      "outputs": [
        {
          "data": {
            "text/html": [
              "<div>\n",
              "<style scoped>\n",
              "    .dataframe tbody tr th:only-of-type {\n",
              "        vertical-align: middle;\n",
              "    }\n",
              "\n",
              "    .dataframe tbody tr th {\n",
              "        vertical-align: top;\n",
              "    }\n",
              "\n",
              "    .dataframe thead th {\n",
              "        text-align: right;\n",
              "    }\n",
              "</style>\n",
              "<table border=\"1\" class=\"dataframe\">\n",
              "  <thead>\n",
              "    <tr style=\"text-align: right;\">\n",
              "      <th></th>\n",
              "      <th>emotion</th>\n",
              "      <th>tempo</th>\n",
              "      <th>spectral_centroid_mean</th>\n",
              "      <th>spectral_centroid_std</th>\n",
              "      <th>spectral_centroid_min</th>\n",
              "      <th>spectral_centroid_max</th>\n",
              "      <th>spectral_centroid_median</th>\n",
              "      <th>spectral_bandwidth_mean</th>\n",
              "      <th>spectral_bandwidth_std</th>\n",
              "      <th>spectral_bandwidth_min</th>\n",
              "      <th>...</th>\n",
              "      <th>onset_env_mean</th>\n",
              "      <th>onset_env_std</th>\n",
              "      <th>onset_env_min</th>\n",
              "      <th>onset_env_max</th>\n",
              "      <th>onset_env_median</th>\n",
              "      <th>y_mean</th>\n",
              "      <th>y_std</th>\n",
              "      <th>y_min</th>\n",
              "      <th>y_max</th>\n",
              "      <th>y_median</th>\n",
              "    </tr>\n",
              "  </thead>\n",
              "  <tbody>\n",
              "    <tr>\n",
              "      <th>0</th>\n",
              "      <td>1</td>\n",
              "      <td>-1.002005</td>\n",
              "      <td>-1.172356</td>\n",
              "      <td>-0.202435</td>\n",
              "      <td>0.097613</td>\n",
              "      <td>-0.223804</td>\n",
              "      <td>-1.621565</td>\n",
              "      <td>1.249141</td>\n",
              "      <td>-0.611033</td>\n",
              "      <td>0.745055</td>\n",
              "      <td>...</td>\n",
              "      <td>-0.131641</td>\n",
              "      <td>-0.550568</td>\n",
              "      <td>0.0</td>\n",
              "      <td>0.024520</td>\n",
              "      <td>0.449809</td>\n",
              "      <td>0.064852</td>\n",
              "      <td>-0.642214</td>\n",
              "      <td>0.686828</td>\n",
              "      <td>-0.711275</td>\n",
              "      <td>-0.038367</td>\n",
              "    </tr>\n",
              "    <tr>\n",
              "      <th>1</th>\n",
              "      <td>2</td>\n",
              "      <td>-1.280322</td>\n",
              "      <td>-0.218384</td>\n",
              "      <td>-0.189966</td>\n",
              "      <td>0.238719</td>\n",
              "      <td>-0.496479</td>\n",
              "      <td>-0.086782</td>\n",
              "      <td>1.320176</td>\n",
              "      <td>-0.392261</td>\n",
              "      <td>0.766077</td>\n",
              "      <td>...</td>\n",
              "      <td>-0.088909</td>\n",
              "      <td>-0.089261</td>\n",
              "      <td>0.0</td>\n",
              "      <td>0.544724</td>\n",
              "      <td>0.845361</td>\n",
              "      <td>-0.070199</td>\n",
              "      <td>-0.658499</td>\n",
              "      <td>0.668222</td>\n",
              "      <td>-0.663048</td>\n",
              "      <td>-0.033903</td>\n",
              "    </tr>\n",
              "    <tr>\n",
              "      <th>2</th>\n",
              "      <td>2</td>\n",
              "      <td>-0.616644</td>\n",
              "      <td>-0.534533</td>\n",
              "      <td>0.027479</td>\n",
              "      <td>0.300872</td>\n",
              "      <td>0.849939</td>\n",
              "      <td>-0.612757</td>\n",
              "      <td>1.309059</td>\n",
              "      <td>-0.771878</td>\n",
              "      <td>1.242820</td>\n",
              "      <td>...</td>\n",
              "      <td>0.455054</td>\n",
              "      <td>-0.844688</td>\n",
              "      <td>0.0</td>\n",
              "      <td>-0.712507</td>\n",
              "      <td>1.490745</td>\n",
              "      <td>0.055557</td>\n",
              "      <td>-0.732369</td>\n",
              "      <td>0.741623</td>\n",
              "      <td>-0.747910</td>\n",
              "      <td>-0.038539</td>\n",
              "    </tr>\n",
              "    <tr>\n",
              "      <th>3</th>\n",
              "      <td>3</td>\n",
              "      <td>0.876629</td>\n",
              "      <td>-0.786102</td>\n",
              "      <td>-0.853524</td>\n",
              "      <td>0.435886</td>\n",
              "      <td>-0.927885</td>\n",
              "      <td>-0.620787</td>\n",
              "      <td>1.505509</td>\n",
              "      <td>-0.134576</td>\n",
              "      <td>0.754812</td>\n",
              "      <td>...</td>\n",
              "      <td>-1.238395</td>\n",
              "      <td>-0.289588</td>\n",
              "      <td>0.0</td>\n",
              "      <td>-0.179580</td>\n",
              "      <td>-0.779366</td>\n",
              "      <td>-0.070929</td>\n",
              "      <td>-0.535652</td>\n",
              "      <td>0.602483</td>\n",
              "      <td>-0.628303</td>\n",
              "      <td>-0.038539</td>\n",
              "    </tr>\n",
              "    <tr>\n",
              "      <th>4</th>\n",
              "      <td>3</td>\n",
              "      <td>-1.763479</td>\n",
              "      <td>-0.826936</td>\n",
              "      <td>-0.636377</td>\n",
              "      <td>0.589282</td>\n",
              "      <td>0.319854</td>\n",
              "      <td>-0.616103</td>\n",
              "      <td>1.231523</td>\n",
              "      <td>-0.241601</td>\n",
              "      <td>1.008284</td>\n",
              "      <td>...</td>\n",
              "      <td>-1.666901</td>\n",
              "      <td>-0.116032</td>\n",
              "      <td>0.0</td>\n",
              "      <td>0.610373</td>\n",
              "      <td>-1.418954</td>\n",
              "      <td>-0.059831</td>\n",
              "      <td>0.324735</td>\n",
              "      <td>-0.453911</td>\n",
              "      <td>0.311729</td>\n",
              "      <td>-0.038539</td>\n",
              "    </tr>\n",
              "  </tbody>\n",
              "</table>\n",
              "<p>5 rows × 47 columns</p>\n",
              "</div>"
            ],
            "text/plain": [
              "   emotion     tempo  spectral_centroid_mean  spectral_centroid_std  \\\n",
              "0        1 -1.002005               -1.172356              -0.202435   \n",
              "1        2 -1.280322               -0.218384              -0.189966   \n",
              "2        2 -0.616644               -0.534533               0.027479   \n",
              "3        3  0.876629               -0.786102              -0.853524   \n",
              "4        3 -1.763479               -0.826936              -0.636377   \n",
              "\n",
              "   spectral_centroid_min  spectral_centroid_max  spectral_centroid_median  \\\n",
              "0               0.097613              -0.223804                 -1.621565   \n",
              "1               0.238719              -0.496479                 -0.086782   \n",
              "2               0.300872               0.849939                 -0.612757   \n",
              "3               0.435886              -0.927885                 -0.620787   \n",
              "4               0.589282               0.319854                 -0.616103   \n",
              "\n",
              "   spectral_bandwidth_mean  spectral_bandwidth_std  spectral_bandwidth_min  \\\n",
              "0                 1.249141               -0.611033                0.745055   \n",
              "1                 1.320176               -0.392261                0.766077   \n",
              "2                 1.309059               -0.771878                1.242820   \n",
              "3                 1.505509               -0.134576                0.754812   \n",
              "4                 1.231523               -0.241601                1.008284   \n",
              "\n",
              "   ...  onset_env_mean  onset_env_std  onset_env_min  onset_env_max  \\\n",
              "0  ...       -0.131641      -0.550568            0.0       0.024520   \n",
              "1  ...       -0.088909      -0.089261            0.0       0.544724   \n",
              "2  ...        0.455054      -0.844688            0.0      -0.712507   \n",
              "3  ...       -1.238395      -0.289588            0.0      -0.179580   \n",
              "4  ...       -1.666901      -0.116032            0.0       0.610373   \n",
              "\n",
              "   onset_env_median    y_mean     y_std     y_min     y_max  y_median  \n",
              "0          0.449809  0.064852 -0.642214  0.686828 -0.711275 -0.038367  \n",
              "1          0.845361 -0.070199 -0.658499  0.668222 -0.663048 -0.033903  \n",
              "2          1.490745  0.055557 -0.732369  0.741623 -0.747910 -0.038539  \n",
              "3         -0.779366 -0.070929 -0.535652  0.602483 -0.628303 -0.038539  \n",
              "4         -1.418954 -0.059831  0.324735 -0.453911  0.311729 -0.038539  \n",
              "\n",
              "[5 rows x 47 columns]"
            ]
          },
          "execution_count": 2,
          "metadata": {},
          "output_type": "execute_result"
        }
      ],
      "source": [
        "data_emotion.head()"
      ]
    },
    {
      "cell_type": "code",
      "execution_count": 3,
      "metadata": {},
      "outputs": [
        {
          "data": {
            "text/html": [
              "<div>\n",
              "<style scoped>\n",
              "    .dataframe tbody tr th:only-of-type {\n",
              "        vertical-align: middle;\n",
              "    }\n",
              "\n",
              "    .dataframe tbody tr th {\n",
              "        vertical-align: top;\n",
              "    }\n",
              "\n",
              "    .dataframe thead th {\n",
              "        text-align: right;\n",
              "    }\n",
              "</style>\n",
              "<table border=\"1\" class=\"dataframe\">\n",
              "  <thead>\n",
              "    <tr style=\"text-align: right;\">\n",
              "      <th></th>\n",
              "      <th>emotional_intensity</th>\n",
              "      <th>tempo</th>\n",
              "      <th>spectral_centroid_mean</th>\n",
              "      <th>spectral_centroid_std</th>\n",
              "      <th>spectral_centroid_min</th>\n",
              "      <th>spectral_centroid_max</th>\n",
              "      <th>spectral_centroid_median</th>\n",
              "      <th>spectral_bandwidth_mean</th>\n",
              "      <th>spectral_bandwidth_std</th>\n",
              "      <th>spectral_bandwidth_min</th>\n",
              "      <th>...</th>\n",
              "      <th>onset_env_mean</th>\n",
              "      <th>onset_env_std</th>\n",
              "      <th>onset_env_min</th>\n",
              "      <th>onset_env_max</th>\n",
              "      <th>onset_env_median</th>\n",
              "      <th>y_mean</th>\n",
              "      <th>y_std</th>\n",
              "      <th>y_min</th>\n",
              "      <th>y_max</th>\n",
              "      <th>y_median</th>\n",
              "    </tr>\n",
              "  </thead>\n",
              "  <tbody>\n",
              "    <tr>\n",
              "      <th>0</th>\n",
              "      <td>0</td>\n",
              "      <td>-1.002005</td>\n",
              "      <td>-1.172356</td>\n",
              "      <td>-0.202435</td>\n",
              "      <td>0.097613</td>\n",
              "      <td>-0.223804</td>\n",
              "      <td>-1.621565</td>\n",
              "      <td>1.249141</td>\n",
              "      <td>-0.611033</td>\n",
              "      <td>0.745055</td>\n",
              "      <td>...</td>\n",
              "      <td>-0.131641</td>\n",
              "      <td>-0.550568</td>\n",
              "      <td>0.0</td>\n",
              "      <td>0.024520</td>\n",
              "      <td>0.449809</td>\n",
              "      <td>0.064852</td>\n",
              "      <td>-0.642214</td>\n",
              "      <td>0.686828</td>\n",
              "      <td>-0.711275</td>\n",
              "      <td>-0.038367</td>\n",
              "    </tr>\n",
              "    <tr>\n",
              "      <th>1</th>\n",
              "      <td>0</td>\n",
              "      <td>-1.280322</td>\n",
              "      <td>-0.218384</td>\n",
              "      <td>-0.189966</td>\n",
              "      <td>0.238719</td>\n",
              "      <td>-0.496479</td>\n",
              "      <td>-0.086782</td>\n",
              "      <td>1.320176</td>\n",
              "      <td>-0.392261</td>\n",
              "      <td>0.766077</td>\n",
              "      <td>...</td>\n",
              "      <td>-0.088909</td>\n",
              "      <td>-0.089261</td>\n",
              "      <td>0.0</td>\n",
              "      <td>0.544724</td>\n",
              "      <td>0.845361</td>\n",
              "      <td>-0.070199</td>\n",
              "      <td>-0.658499</td>\n",
              "      <td>0.668222</td>\n",
              "      <td>-0.663048</td>\n",
              "      <td>-0.033903</td>\n",
              "    </tr>\n",
              "    <tr>\n",
              "      <th>2</th>\n",
              "      <td>1</td>\n",
              "      <td>-0.616644</td>\n",
              "      <td>-0.534533</td>\n",
              "      <td>0.027479</td>\n",
              "      <td>0.300872</td>\n",
              "      <td>0.849939</td>\n",
              "      <td>-0.612757</td>\n",
              "      <td>1.309059</td>\n",
              "      <td>-0.771878</td>\n",
              "      <td>1.242820</td>\n",
              "      <td>...</td>\n",
              "      <td>0.455054</td>\n",
              "      <td>-0.844688</td>\n",
              "      <td>0.0</td>\n",
              "      <td>-0.712507</td>\n",
              "      <td>1.490745</td>\n",
              "      <td>0.055557</td>\n",
              "      <td>-0.732369</td>\n",
              "      <td>0.741623</td>\n",
              "      <td>-0.747910</td>\n",
              "      <td>-0.038539</td>\n",
              "    </tr>\n",
              "    <tr>\n",
              "      <th>3</th>\n",
              "      <td>0</td>\n",
              "      <td>0.876629</td>\n",
              "      <td>-0.786102</td>\n",
              "      <td>-0.853524</td>\n",
              "      <td>0.435886</td>\n",
              "      <td>-0.927885</td>\n",
              "      <td>-0.620787</td>\n",
              "      <td>1.505509</td>\n",
              "      <td>-0.134576</td>\n",
              "      <td>0.754812</td>\n",
              "      <td>...</td>\n",
              "      <td>-1.238395</td>\n",
              "      <td>-0.289588</td>\n",
              "      <td>0.0</td>\n",
              "      <td>-0.179580</td>\n",
              "      <td>-0.779366</td>\n",
              "      <td>-0.070929</td>\n",
              "      <td>-0.535652</td>\n",
              "      <td>0.602483</td>\n",
              "      <td>-0.628303</td>\n",
              "      <td>-0.038539</td>\n",
              "    </tr>\n",
              "    <tr>\n",
              "      <th>4</th>\n",
              "      <td>1</td>\n",
              "      <td>-1.763479</td>\n",
              "      <td>-0.826936</td>\n",
              "      <td>-0.636377</td>\n",
              "      <td>0.589282</td>\n",
              "      <td>0.319854</td>\n",
              "      <td>-0.616103</td>\n",
              "      <td>1.231523</td>\n",
              "      <td>-0.241601</td>\n",
              "      <td>1.008284</td>\n",
              "      <td>...</td>\n",
              "      <td>-1.666901</td>\n",
              "      <td>-0.116032</td>\n",
              "      <td>0.0</td>\n",
              "      <td>0.610373</td>\n",
              "      <td>-1.418954</td>\n",
              "      <td>-0.059831</td>\n",
              "      <td>0.324735</td>\n",
              "      <td>-0.453911</td>\n",
              "      <td>0.311729</td>\n",
              "      <td>-0.038539</td>\n",
              "    </tr>\n",
              "  </tbody>\n",
              "</table>\n",
              "<p>5 rows × 47 columns</p>\n",
              "</div>"
            ],
            "text/plain": [
              "   emotional_intensity     tempo  spectral_centroid_mean  \\\n",
              "0                    0 -1.002005               -1.172356   \n",
              "1                    0 -1.280322               -0.218384   \n",
              "2                    1 -0.616644               -0.534533   \n",
              "3                    0  0.876629               -0.786102   \n",
              "4                    1 -1.763479               -0.826936   \n",
              "\n",
              "   spectral_centroid_std  spectral_centroid_min  spectral_centroid_max  \\\n",
              "0              -0.202435               0.097613              -0.223804   \n",
              "1              -0.189966               0.238719              -0.496479   \n",
              "2               0.027479               0.300872               0.849939   \n",
              "3              -0.853524               0.435886              -0.927885   \n",
              "4              -0.636377               0.589282               0.319854   \n",
              "\n",
              "   spectral_centroid_median  spectral_bandwidth_mean  spectral_bandwidth_std  \\\n",
              "0                 -1.621565                 1.249141               -0.611033   \n",
              "1                 -0.086782                 1.320176               -0.392261   \n",
              "2                 -0.612757                 1.309059               -0.771878   \n",
              "3                 -0.620787                 1.505509               -0.134576   \n",
              "4                 -0.616103                 1.231523               -0.241601   \n",
              "\n",
              "   spectral_bandwidth_min  ...  onset_env_mean  onset_env_std  onset_env_min  \\\n",
              "0                0.745055  ...       -0.131641      -0.550568            0.0   \n",
              "1                0.766077  ...       -0.088909      -0.089261            0.0   \n",
              "2                1.242820  ...        0.455054      -0.844688            0.0   \n",
              "3                0.754812  ...       -1.238395      -0.289588            0.0   \n",
              "4                1.008284  ...       -1.666901      -0.116032            0.0   \n",
              "\n",
              "   onset_env_max  onset_env_median    y_mean     y_std     y_min     y_max  \\\n",
              "0       0.024520          0.449809  0.064852 -0.642214  0.686828 -0.711275   \n",
              "1       0.544724          0.845361 -0.070199 -0.658499  0.668222 -0.663048   \n",
              "2      -0.712507          1.490745  0.055557 -0.732369  0.741623 -0.747910   \n",
              "3      -0.179580         -0.779366 -0.070929 -0.535652  0.602483 -0.628303   \n",
              "4       0.610373         -1.418954 -0.059831  0.324735 -0.453911  0.311729   \n",
              "\n",
              "   y_median  \n",
              "0 -0.038367  \n",
              "1 -0.033903  \n",
              "2 -0.038539  \n",
              "3 -0.038539  \n",
              "4 -0.038539  \n",
              "\n",
              "[5 rows x 47 columns]"
            ]
          },
          "execution_count": 3,
          "metadata": {},
          "output_type": "execute_result"
        }
      ],
      "source": [
        "data_emotional_intensity.head()"
      ]
    },
    {
      "cell_type": "code",
      "execution_count": 4,
      "metadata": {
        "colab": {
          "base_uri": "https://localhost:8080/"
        },
        "id": "1_wZXGb7xswE",
        "outputId": "e2f8b7ab-71bd-4eda-d61d-104819b79cc0"
      },
      "outputs": [
        {
          "data": {
            "text/plain": [
              "(1440, 47)"
            ]
          },
          "execution_count": 4,
          "metadata": {},
          "output_type": "execute_result"
        }
      ],
      "source": [
        "data_emotional_intensity.shape"
      ]
    },
    {
      "cell_type": "markdown",
      "metadata": {
        "id": "zoACzFKjwt13"
      },
      "source": [
        "## Emotion"
      ]
    },
    {
      "cell_type": "code",
      "execution_count": 5,
      "metadata": {
        "colab": {
          "base_uri": "https://localhost:8080/"
        },
        "id": "qAvB_yUJbKUn",
        "outputId": "3a7179d9-f370-46fb-b319-11ddc42381f9"
      },
      "outputs": [
        {
          "data": {
            "text/plain": [
              "(1152, 288, 1152, 288)"
            ]
          },
          "execution_count": 5,
          "metadata": {},
          "output_type": "execute_result"
        }
      ],
      "source": [
        "from sklearn.model_selection import train_test_split\n",
        "\n",
        "X= data_emotion.drop('emotion',axis=1)\n",
        "y= data_emotion.emotion\n",
        "\n",
        "X_train, X_test, y_train, y_test = train_test_split(X, y, test_size=0.2, random_state=42)\n",
        "len(X_train), len(X_test), len(y_train), len(y_test)"
      ]
    },
    {
      "cell_type": "code",
      "execution_count": 6,
      "metadata": {},
      "outputs": [],
      "source": [
        "# Saving X_test and y_test for use in the assessment phase\n",
        "X_test.to_csv('../05_Assess/X_test_emotion.csv', index=False)\n",
        "y_test.to_csv('../05_Assess/y_test_emotion.csv', index=False)"
      ]
    },
    {
      "cell_type": "code",
      "execution_count": 7,
      "metadata": {
        "colab": {
          "base_uri": "https://localhost:8080/"
        },
        "id": "GDkF2YiUZCKC",
        "outputId": "9a5ff7fe-8b9c-4711-8b26-a1145e55e3aa"
      },
      "outputs": [
        {
          "data": {
            "text/plain": [
              "(1152, 46)"
            ]
          },
          "execution_count": 7,
          "metadata": {},
          "output_type": "execute_result"
        }
      ],
      "source": [
        "X_train.shape"
      ]
    },
    {
      "cell_type": "code",
      "execution_count": 8,
      "metadata": {
        "colab": {
          "base_uri": "https://localhost:8080/"
        },
        "id": "982-LY0-GYle",
        "outputId": "bbb4259a-0e1a-4cf7-822e-c819597e0073"
      },
      "outputs": [],
      "source": [
        "from sklearn.ensemble import GradientBoostingClassifier\n",
        "from sklearn.metrics import confusion_matrix, classification_report\n",
        "\n",
        "# Initialize the Gradient Boosting classifier\n",
        "gb_classifier = GradientBoostingClassifier(random_state=69)\n",
        "\n",
        "# Train the classifier on the training data\n",
        "gb_classifier.fit(X_train, y_train)\n",
        "\n",
        "# Predicting on the test set\n",
        "y_pred_gb_simple = gb_classifier.predict(X_test)\n",
        "\n",
        "\n",
        "# save the model to disk\n",
        "import pickle\n",
        "filename = 'gb_classifier_emotion.pkl'\n",
        "pickle.dump(gb_classifier, open(filename, 'wb'))"
      ]
    },
    {
      "cell_type": "code",
      "execution_count": 9,
      "metadata": {},
      "outputs": [
        {
          "data": {
            "text/plain": [
              "{'ccp_alpha': 0.0,\n",
              " 'criterion': 'friedman_mse',\n",
              " 'init': None,\n",
              " 'learning_rate': 0.1,\n",
              " 'loss': 'log_loss',\n",
              " 'max_depth': 3,\n",
              " 'max_features': None,\n",
              " 'max_leaf_nodes': None,\n",
              " 'min_impurity_decrease': 0.0,\n",
              " 'min_samples_leaf': 1,\n",
              " 'min_samples_split': 2,\n",
              " 'min_weight_fraction_leaf': 0.0,\n",
              " 'n_estimators': 100,\n",
              " 'n_iter_no_change': None,\n",
              " 'random_state': 69,\n",
              " 'subsample': 1.0,\n",
              " 'tol': 0.0001,\n",
              " 'validation_fraction': 0.1,\n",
              " 'verbose': 0,\n",
              " 'warm_start': False}"
            ]
          },
          "execution_count": 9,
          "metadata": {},
          "output_type": "execute_result"
        }
      ],
      "source": [
        "gb_classifier.get_params()"
      ]
    },
    {
      "cell_type": "code",
      "execution_count": 10,
      "metadata": {
        "colab": {
          "base_uri": "https://localhost:8080/"
        },
        "id": "b-_KIYcXgcbR",
        "outputId": "5602def2-f878-4e0a-a3dd-4f8c956438fd"
      },
      "outputs": [
        {
          "name": "stdout",
          "output_type": "stream",
          "text": [
            "              precision    recall  f1-score   support\n",
            "\n",
            "           1       0.60      0.39      0.47        23\n",
            "           2       0.62      0.69      0.65        35\n",
            "           3       0.45      0.23      0.31        43\n",
            "           4       0.33      0.37      0.34        41\n",
            "           5       0.70      0.70      0.70        37\n",
            "           6       0.44      0.61      0.51        33\n",
            "           7       0.50      0.61      0.55        31\n",
            "           8       0.52      0.53      0.53        45\n",
            "\n",
            "    accuracy                           0.51       288\n",
            "   macro avg       0.52      0.52      0.51       288\n",
            "weighted avg       0.51      0.51      0.50       288\n",
            "\n"
          ]
        }
      ],
      "source": [
        "print(classification_report(y_test, y_pred_gb_simple))"
      ]
    },
    {
      "cell_type": "code",
      "execution_count": null,
      "metadata": {
        "colab": {
          "base_uri": "https://localhost:8080/"
        },
        "id": "TT4KBmDFTPQA",
        "outputId": "77823978-b740-4598-959d-0130ac98f963"
      },
      "outputs": [],
      "source": [
        "from sklearn.metrics import accuracy_score, precision_score, recall_score, f1_score\n",
        "\n",
        "# Calculating Accuracy, Precision, Recall, and F1 Score for the Gradient Boosting model\n",
        "accuracy_gb = accuracy_score(y_test, y_pred_gb_simple)\n",
        "precision_gb = precision_score(y_test, y_pred_gb_simple, average='macro')\n",
        "recall_gb = recall_score(y_test, y_pred_gb_simple, average='macro')\n",
        "f1_score_gb = f1_score(y_test, y_pred_gb_simple, average='macro')\n",
        "\n",
        "accuracy_gb, precision_gb, recall_gb, f1_score_gb"
      ]
    },
    {
      "cell_type": "code",
      "execution_count": null,
      "metadata": {
        "id": "I4PkPzAT3eqc"
      },
      "outputs": [],
      "source": [
        "from sklearn.ensemble import RandomForestClassifier\n",
        "\n",
        "N_ESTIMATORS = 1500 # @param {type:'slider', min:100, max:2000, step:100}\n",
        "\n",
        "random_forest = RandomForestClassifier(n_estimators=N_ESTIMATORS).fit(X_train, y_train)\n",
        "filename = 'rf_classifier_emotion.pkl'\n",
        "pickle.dump(random_forest, open(filename, 'wb'))"
      ]
    },
    {
      "cell_type": "code",
      "execution_count": null,
      "metadata": {
        "colab": {
          "base_uri": "https://localhost:8080/"
        },
        "id": "6xhn0sYm3eqd",
        "outputId": "3022aa6f-ff25-4ad0-f739-3982a0708d41"
      },
      "outputs": [],
      "source": [
        "random_forest.score(X_test,y_test)"
      ]
    },
    {
      "cell_type": "markdown",
      "metadata": {
        "id": "mISA-tnbyPTu"
      },
      "source": [
        "## Emotional Intensity"
      ]
    },
    {
      "cell_type": "code",
      "execution_count": null,
      "metadata": {
        "colab": {
          "base_uri": "https://localhost:8080/"
        },
        "id": "vckQrDhUxcru",
        "outputId": "d33a675b-00cc-4128-ae6d-8f31b9101a93"
      },
      "outputs": [],
      "source": [
        "data_emotional_intensity.emotional_intensity"
      ]
    },
    {
      "cell_type": "code",
      "execution_count": null,
      "metadata": {
        "colab": {
          "base_uri": "https://localhost:8080/"
        },
        "id": "bDlTDz3QvMpg",
        "outputId": "27124e4a-acc1-4538-f8d2-f04c134a2842"
      },
      "outputs": [],
      "source": [
        "from sklearn.model_selection import train_test_split\n",
        "\n",
        "X= data_emotional_intensity.drop('emotional_intensity',axis=1)\n",
        "y= data_emotional_intensity.emotional_intensity\n",
        "\n",
        "X_train, X_test, y_train, y_test = train_test_split(X, y, test_size=0.2, random_state=42)\n",
        "len(X_train), len(X_test), len(y_train), len(y_test)"
      ]
    },
    {
      "cell_type": "code",
      "execution_count": null,
      "metadata": {},
      "outputs": [],
      "source": [
        "# saving the test emotional_intensity \n",
        "X_test.to_csv('../05_Assess/X_test_emotional_intensity.csv', index=False)\n",
        "y_test.to_csv('../05_Assess/y_test_emotional_intensity.csv', index=False)"
      ]
    },
    {
      "cell_type": "code",
      "execution_count": null,
      "metadata": {
        "id": "-mliU1dcvMs0"
      },
      "outputs": [],
      "source": [
        "from sklearn.ensemble import RandomForestClassifier\n",
        "\n",
        "N_ESTIMATORS = 200 # @param {type:'slider', min:100, max:2000, step:100}\n",
        "\n",
        "random_forest = RandomForestClassifier(n_estimators=N_ESTIMATORS).fit(X_train, y_train)\n",
        "\n",
        "rf_pred = random_forest.predict(X_test)"
      ]
    },
    {
      "cell_type": "code",
      "execution_count": null,
      "metadata": {
        "colab": {
          "base_uri": "https://localhost:8080/"
        },
        "id": "2zFOOcGpvMwP",
        "outputId": "7dbe80e8-289c-4e5c-bcf9-1f24db12f265"
      },
      "outputs": [],
      "source": [
        "random_forest.score(X_test,y_test)"
      ]
    },
    {
      "cell_type": "code",
      "execution_count": null,
      "metadata": {
        "colab": {
          "base_uri": "https://localhost:8080/"
        },
        "id": "tx64BRHGvNB3",
        "outputId": "e3db423d-8a5c-4664-e515-836cb056eef6"
      },
      "outputs": [],
      "source": [
        "print(classification_report(y_test, rf_pred))"
      ]
    },
    {
      "cell_type": "code",
      "execution_count": null,
      "metadata": {
        "colab": {
          "base_uri": "https://localhost:8080/"
        },
        "id": "iwoFTzSNzrj4",
        "outputId": "b73f48b7-68a4-4d87-cb77-1e4e30a2222e"
      },
      "outputs": [],
      "source": [
        "# Generating the confusion matrix\n",
        "conf_matrix_gb = confusion_matrix(y_test, rf_pred)\n",
        "\n",
        "conf_matrix_gb"
      ]
    },
    {
      "cell_type": "code",
      "execution_count": null,
      "metadata": {},
      "outputs": [],
      "source": [
        "filename = 'rf_classifier_emotional_intensity.pkl'\n",
        "pickle.dump(random_forest, open(filename, 'wb'))"
      ]
    },
    {
      "cell_type": "code",
      "execution_count": null,
      "metadata": {},
      "outputs": [],
      "source": []
    }
  ],
  "metadata": {
    "colab": {
      "provenance": []
    },
    "kernelspec": {
      "display_name": "Python 3",
      "name": "python3"
    },
    "language_info": {
      "codemirror_mode": {
        "name": "ipython",
        "version": 3
      },
      "file_extension": ".py",
      "mimetype": "text/x-python",
      "name": "python",
      "nbconvert_exporter": "python",
      "pygments_lexer": "ipython3",
      "version": "3.8.15"
    }
  },
  "nbformat": 4,
  "nbformat_minor": 0
}
