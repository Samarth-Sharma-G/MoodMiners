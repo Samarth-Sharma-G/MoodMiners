{
  "cells": [
    {
      "cell_type": "markdown",
      "metadata": {},
      "source": [
        "# Modeling\n",
        "Our goal is to create a model that can predict the 'Emotion' feature taken from the audio data, using the emotional features provided from the Kaggle emotional prediction dataset, as well as general audio features generated and introducted later (by us) using the Librosa library and applied onto the .wav files that were provided alongside the label emotions from Kaggle."
      ]
    },
    {
      "cell_type": "markdown",
      "metadata": {
        "id": "pI6X7_FrU0_b"
      },
      "source": [
        "## Loading Preprocessed Data"
      ]
    },
    {
      "cell_type": "code",
      "execution_count": 1,
      "metadata": {
        "id": "1zAJ5z1dRNd2"
      },
      "outputs": [],
      "source": [
        "import pandas as pd\n",
        "\n",
        "file1 = '../03_Modify/data_emotional_intensity.csv'\n",
        "file2 = '../03_Modify/data_emotion.csv'\n",
        "# Save the DataFrame as a CSV file\n",
        "data_emotional_intensity = pd.read_csv(file1)\n",
        "data_emotion = pd.read_csv(file2)"
      ]
    },
    {
      "cell_type": "code",
      "execution_count": 2,
      "metadata": {},
      "outputs": [
        {
          "data": {
            "text/html": [
              "<div>\n",
              "<style scoped>\n",
              "    .dataframe tbody tr th:only-of-type {\n",
              "        vertical-align: middle;\n",
              "    }\n",
              "\n",
              "    .dataframe tbody tr th {\n",
              "        vertical-align: top;\n",
              "    }\n",
              "\n",
              "    .dataframe thead th {\n",
              "        text-align: right;\n",
              "    }\n",
              "</style>\n",
              "<table border=\"1\" class=\"dataframe\">\n",
              "  <thead>\n",
              "    <tr style=\"text-align: right;\">\n",
              "      <th></th>\n",
              "      <th>tempo</th>\n",
              "      <th>onset_env_mean</th>\n",
              "      <th>onset_env_std</th>\n",
              "      <th>onset_env_median</th>\n",
              "      <th>onset_env_min</th>\n",
              "      <th>onset_env_max</th>\n",
              "      <th>spectral_centroid_mean</th>\n",
              "      <th>spectral_centroid_std</th>\n",
              "      <th>spectral_centroid_median</th>\n",
              "      <th>spectral_centroid_min</th>\n",
              "      <th>...</th>\n",
              "      <th>mfcc_max_11</th>\n",
              "      <th>mfcc_max_12</th>\n",
              "      <th>mfcc_max_13</th>\n",
              "      <th>mfcc_max_14</th>\n",
              "      <th>mfcc_max_15</th>\n",
              "      <th>mfcc_max_16</th>\n",
              "      <th>mfcc_max_17</th>\n",
              "      <th>mfcc_max_18</th>\n",
              "      <th>mfcc_max_19</th>\n",
              "      <th>mfcc_max_20</th>\n",
              "    </tr>\n",
              "  </thead>\n",
              "  <tbody>\n",
              "    <tr>\n",
              "      <th>0</th>\n",
              "      <td>0.374243</td>\n",
              "      <td>-0.332760</td>\n",
              "      <td>0.261798</td>\n",
              "      <td>-0.437075</td>\n",
              "      <td>0.0</td>\n",
              "      <td>-1.140906</td>\n",
              "      <td>-0.684409</td>\n",
              "      <td>1.197786</td>\n",
              "      <td>-1.260809</td>\n",
              "      <td>-1.073469</td>\n",
              "      <td>...</td>\n",
              "      <td>-1.432475</td>\n",
              "      <td>-0.066422</td>\n",
              "      <td>-0.952170</td>\n",
              "      <td>-0.696883</td>\n",
              "      <td>-1.270881</td>\n",
              "      <td>-1.176551</td>\n",
              "      <td>-0.282666</td>\n",
              "      <td>-0.846374</td>\n",
              "      <td>-1.076724</td>\n",
              "      <td>-0.577233</td>\n",
              "    </tr>\n",
              "    <tr>\n",
              "      <th>1</th>\n",
              "      <td>0.863181</td>\n",
              "      <td>-0.253371</td>\n",
              "      <td>0.924194</td>\n",
              "      <td>-0.251321</td>\n",
              "      <td>0.0</td>\n",
              "      <td>1.607811</td>\n",
              "      <td>-0.911456</td>\n",
              "      <td>0.876178</td>\n",
              "      <td>-1.431539</td>\n",
              "      <td>-1.073469</td>\n",
              "      <td>...</td>\n",
              "      <td>-1.380526</td>\n",
              "      <td>-0.092400</td>\n",
              "      <td>-0.112360</td>\n",
              "      <td>-0.529873</td>\n",
              "      <td>-0.909262</td>\n",
              "      <td>-0.725138</td>\n",
              "      <td>-0.606210</td>\n",
              "      <td>-0.553577</td>\n",
              "      <td>-1.079252</td>\n",
              "      <td>-0.087085</td>\n",
              "    </tr>\n",
              "    <tr>\n",
              "      <th>2</th>\n",
              "      <td>-1.043677</td>\n",
              "      <td>-0.585887</td>\n",
              "      <td>-0.363455</td>\n",
              "      <td>0.100917</td>\n",
              "      <td>0.0</td>\n",
              "      <td>-0.007827</td>\n",
              "      <td>-1.642840</td>\n",
              "      <td>1.008973</td>\n",
              "      <td>-2.200055</td>\n",
              "      <td>-1.073469</td>\n",
              "      <td>...</td>\n",
              "      <td>-0.554294</td>\n",
              "      <td>-1.023676</td>\n",
              "      <td>-1.469105</td>\n",
              "      <td>-1.471126</td>\n",
              "      <td>-1.453583</td>\n",
              "      <td>-1.027109</td>\n",
              "      <td>0.083603</td>\n",
              "      <td>-1.269402</td>\n",
              "      <td>-1.281879</td>\n",
              "      <td>-1.050536</td>\n",
              "    </tr>\n",
              "    <tr>\n",
              "      <th>3</th>\n",
              "      <td>-0.131701</td>\n",
              "      <td>0.502915</td>\n",
              "      <td>0.963484</td>\n",
              "      <td>0.656464</td>\n",
              "      <td>0.0</td>\n",
              "      <td>0.940466</td>\n",
              "      <td>-1.356109</td>\n",
              "      <td>-0.095697</td>\n",
              "      <td>-0.834611</td>\n",
              "      <td>-1.073469</td>\n",
              "      <td>...</td>\n",
              "      <td>-0.851689</td>\n",
              "      <td>-0.893290</td>\n",
              "      <td>-0.352136</td>\n",
              "      <td>-0.930853</td>\n",
              "      <td>-0.685324</td>\n",
              "      <td>-0.775293</td>\n",
              "      <td>-0.179770</td>\n",
              "      <td>-0.418968</td>\n",
              "      <td>-0.558661</td>\n",
              "      <td>-0.885703</td>\n",
              "    </tr>\n",
              "    <tr>\n",
              "      <th>4</th>\n",
              "      <td>0.651308</td>\n",
              "      <td>1.052303</td>\n",
              "      <td>1.631391</td>\n",
              "      <td>0.988971</td>\n",
              "      <td>0.0</td>\n",
              "      <td>0.655991</td>\n",
              "      <td>-1.424718</td>\n",
              "      <td>-0.109878</td>\n",
              "      <td>-0.961047</td>\n",
              "      <td>-1.073469</td>\n",
              "      <td>...</td>\n",
              "      <td>-0.529464</td>\n",
              "      <td>-0.348217</td>\n",
              "      <td>-0.874329</td>\n",
              "      <td>0.264549</td>\n",
              "      <td>-1.045235</td>\n",
              "      <td>-0.386692</td>\n",
              "      <td>-0.337142</td>\n",
              "      <td>-0.500581</td>\n",
              "      <td>-0.165303</td>\n",
              "      <td>-0.397244</td>\n",
              "    </tr>\n",
              "  </tbody>\n",
              "</table>\n",
              "<p>5 rows × 137 columns</p>\n",
              "</div>"
            ],
            "text/plain": [
              "      tempo  onset_env_mean  onset_env_std  onset_env_median  onset_env_min  \\\n",
              "0  0.374243       -0.332760       0.261798         -0.437075            0.0   \n",
              "1  0.863181       -0.253371       0.924194         -0.251321            0.0   \n",
              "2 -1.043677       -0.585887      -0.363455          0.100917            0.0   \n",
              "3 -0.131701        0.502915       0.963484          0.656464            0.0   \n",
              "4  0.651308        1.052303       1.631391          0.988971            0.0   \n",
              "\n",
              "   onset_env_max  spectral_centroid_mean  spectral_centroid_std  \\\n",
              "0      -1.140906               -0.684409               1.197786   \n",
              "1       1.607811               -0.911456               0.876178   \n",
              "2      -0.007827               -1.642840               1.008973   \n",
              "3       0.940466               -1.356109              -0.095697   \n",
              "4       0.655991               -1.424718              -0.109878   \n",
              "\n",
              "   spectral_centroid_median  spectral_centroid_min  ...  mfcc_max_11  \\\n",
              "0                 -1.260809              -1.073469  ...    -1.432475   \n",
              "1                 -1.431539              -1.073469  ...    -1.380526   \n",
              "2                 -2.200055              -1.073469  ...    -0.554294   \n",
              "3                 -0.834611              -1.073469  ...    -0.851689   \n",
              "4                 -0.961047              -1.073469  ...    -0.529464   \n",
              "\n",
              "   mfcc_max_12  mfcc_max_13  mfcc_max_14  mfcc_max_15  mfcc_max_16  \\\n",
              "0    -0.066422    -0.952170    -0.696883    -1.270881    -1.176551   \n",
              "1    -0.092400    -0.112360    -0.529873    -0.909262    -0.725138   \n",
              "2    -1.023676    -1.469105    -1.471126    -1.453583    -1.027109   \n",
              "3    -0.893290    -0.352136    -0.930853    -0.685324    -0.775293   \n",
              "4    -0.348217    -0.874329     0.264549    -1.045235    -0.386692   \n",
              "\n",
              "   mfcc_max_17  mfcc_max_18  mfcc_max_19  mfcc_max_20  \n",
              "0    -0.282666    -0.846374    -1.076724    -0.577233  \n",
              "1    -0.606210    -0.553577    -1.079252    -0.087085  \n",
              "2     0.083603    -1.269402    -1.281879    -1.050536  \n",
              "3    -0.179770    -0.418968    -0.558661    -0.885703  \n",
              "4    -0.337142    -0.500581    -0.165303    -0.397244  \n",
              "\n",
              "[5 rows x 137 columns]"
            ]
          },
          "execution_count": 2,
          "metadata": {},
          "output_type": "execute_result"
        }
      ],
      "source": [
        "data_emotion.head()"
      ]
    },
    {
      "cell_type": "code",
      "execution_count": 3,
      "metadata": {},
      "outputs": [
        {
          "data": {
            "text/html": [
              "<div>\n",
              "<style scoped>\n",
              "    .dataframe tbody tr th:only-of-type {\n",
              "        vertical-align: middle;\n",
              "    }\n",
              "\n",
              "    .dataframe tbody tr th {\n",
              "        vertical-align: top;\n",
              "    }\n",
              "\n",
              "    .dataframe thead th {\n",
              "        text-align: right;\n",
              "    }\n",
              "</style>\n",
              "<table border=\"1\" class=\"dataframe\">\n",
              "  <thead>\n",
              "    <tr style=\"text-align: right;\">\n",
              "      <th></th>\n",
              "      <th>tempo</th>\n",
              "      <th>onset_env_mean</th>\n",
              "      <th>onset_env_std</th>\n",
              "      <th>onset_env_median</th>\n",
              "      <th>onset_env_min</th>\n",
              "      <th>onset_env_max</th>\n",
              "      <th>spectral_centroid_mean</th>\n",
              "      <th>spectral_centroid_std</th>\n",
              "      <th>spectral_centroid_median</th>\n",
              "      <th>spectral_centroid_min</th>\n",
              "      <th>...</th>\n",
              "      <th>mfcc_max_11</th>\n",
              "      <th>mfcc_max_12</th>\n",
              "      <th>mfcc_max_13</th>\n",
              "      <th>mfcc_max_14</th>\n",
              "      <th>mfcc_max_15</th>\n",
              "      <th>mfcc_max_16</th>\n",
              "      <th>mfcc_max_17</th>\n",
              "      <th>mfcc_max_18</th>\n",
              "      <th>mfcc_max_19</th>\n",
              "      <th>mfcc_max_20</th>\n",
              "    </tr>\n",
              "  </thead>\n",
              "  <tbody>\n",
              "    <tr>\n",
              "      <th>0</th>\n",
              "      <td>0.374243</td>\n",
              "      <td>-0.332760</td>\n",
              "      <td>0.261798</td>\n",
              "      <td>-0.437075</td>\n",
              "      <td>0.0</td>\n",
              "      <td>-1.140906</td>\n",
              "      <td>-0.684409</td>\n",
              "      <td>1.197786</td>\n",
              "      <td>-1.260809</td>\n",
              "      <td>-1.073469</td>\n",
              "      <td>...</td>\n",
              "      <td>-1.432475</td>\n",
              "      <td>-0.066422</td>\n",
              "      <td>-0.952170</td>\n",
              "      <td>-0.696883</td>\n",
              "      <td>-1.270881</td>\n",
              "      <td>-1.176551</td>\n",
              "      <td>-0.282666</td>\n",
              "      <td>-0.846374</td>\n",
              "      <td>-1.076724</td>\n",
              "      <td>-0.577233</td>\n",
              "    </tr>\n",
              "    <tr>\n",
              "      <th>1</th>\n",
              "      <td>0.863181</td>\n",
              "      <td>-0.253371</td>\n",
              "      <td>0.924194</td>\n",
              "      <td>-0.251321</td>\n",
              "      <td>0.0</td>\n",
              "      <td>1.607811</td>\n",
              "      <td>-0.911456</td>\n",
              "      <td>0.876178</td>\n",
              "      <td>-1.431539</td>\n",
              "      <td>-1.073469</td>\n",
              "      <td>...</td>\n",
              "      <td>-1.380526</td>\n",
              "      <td>-0.092400</td>\n",
              "      <td>-0.112360</td>\n",
              "      <td>-0.529873</td>\n",
              "      <td>-0.909262</td>\n",
              "      <td>-0.725138</td>\n",
              "      <td>-0.606210</td>\n",
              "      <td>-0.553577</td>\n",
              "      <td>-1.079252</td>\n",
              "      <td>-0.087085</td>\n",
              "    </tr>\n",
              "    <tr>\n",
              "      <th>2</th>\n",
              "      <td>-1.043677</td>\n",
              "      <td>-0.585887</td>\n",
              "      <td>-0.363455</td>\n",
              "      <td>0.100917</td>\n",
              "      <td>0.0</td>\n",
              "      <td>-0.007827</td>\n",
              "      <td>-1.642840</td>\n",
              "      <td>1.008973</td>\n",
              "      <td>-2.200055</td>\n",
              "      <td>-1.073469</td>\n",
              "      <td>...</td>\n",
              "      <td>-0.554294</td>\n",
              "      <td>-1.023676</td>\n",
              "      <td>-1.469105</td>\n",
              "      <td>-1.471126</td>\n",
              "      <td>-1.453583</td>\n",
              "      <td>-1.027109</td>\n",
              "      <td>0.083603</td>\n",
              "      <td>-1.269402</td>\n",
              "      <td>-1.281879</td>\n",
              "      <td>-1.050536</td>\n",
              "    </tr>\n",
              "    <tr>\n",
              "      <th>3</th>\n",
              "      <td>-0.131701</td>\n",
              "      <td>0.502915</td>\n",
              "      <td>0.963484</td>\n",
              "      <td>0.656464</td>\n",
              "      <td>0.0</td>\n",
              "      <td>0.940466</td>\n",
              "      <td>-1.356109</td>\n",
              "      <td>-0.095697</td>\n",
              "      <td>-0.834611</td>\n",
              "      <td>-1.073469</td>\n",
              "      <td>...</td>\n",
              "      <td>-0.851689</td>\n",
              "      <td>-0.893290</td>\n",
              "      <td>-0.352136</td>\n",
              "      <td>-0.930853</td>\n",
              "      <td>-0.685324</td>\n",
              "      <td>-0.775293</td>\n",
              "      <td>-0.179770</td>\n",
              "      <td>-0.418968</td>\n",
              "      <td>-0.558661</td>\n",
              "      <td>-0.885703</td>\n",
              "    </tr>\n",
              "    <tr>\n",
              "      <th>4</th>\n",
              "      <td>0.651308</td>\n",
              "      <td>1.052303</td>\n",
              "      <td>1.631391</td>\n",
              "      <td>0.988971</td>\n",
              "      <td>0.0</td>\n",
              "      <td>0.655991</td>\n",
              "      <td>-1.424718</td>\n",
              "      <td>-0.109878</td>\n",
              "      <td>-0.961047</td>\n",
              "      <td>-1.073469</td>\n",
              "      <td>...</td>\n",
              "      <td>-0.529464</td>\n",
              "      <td>-0.348217</td>\n",
              "      <td>-0.874329</td>\n",
              "      <td>0.264549</td>\n",
              "      <td>-1.045235</td>\n",
              "      <td>-0.386692</td>\n",
              "      <td>-0.337142</td>\n",
              "      <td>-0.500581</td>\n",
              "      <td>-0.165303</td>\n",
              "      <td>-0.397244</td>\n",
              "    </tr>\n",
              "  </tbody>\n",
              "</table>\n",
              "<p>5 rows × 137 columns</p>\n",
              "</div>"
            ],
            "text/plain": [
              "      tempo  onset_env_mean  onset_env_std  onset_env_median  onset_env_min  \\\n",
              "0  0.374243       -0.332760       0.261798         -0.437075            0.0   \n",
              "1  0.863181       -0.253371       0.924194         -0.251321            0.0   \n",
              "2 -1.043677       -0.585887      -0.363455          0.100917            0.0   \n",
              "3 -0.131701        0.502915       0.963484          0.656464            0.0   \n",
              "4  0.651308        1.052303       1.631391          0.988971            0.0   \n",
              "\n",
              "   onset_env_max  spectral_centroid_mean  spectral_centroid_std  \\\n",
              "0      -1.140906               -0.684409               1.197786   \n",
              "1       1.607811               -0.911456               0.876178   \n",
              "2      -0.007827               -1.642840               1.008973   \n",
              "3       0.940466               -1.356109              -0.095697   \n",
              "4       0.655991               -1.424718              -0.109878   \n",
              "\n",
              "   spectral_centroid_median  spectral_centroid_min  ...  mfcc_max_11  \\\n",
              "0                 -1.260809              -1.073469  ...    -1.432475   \n",
              "1                 -1.431539              -1.073469  ...    -1.380526   \n",
              "2                 -2.200055              -1.073469  ...    -0.554294   \n",
              "3                 -0.834611              -1.073469  ...    -0.851689   \n",
              "4                 -0.961047              -1.073469  ...    -0.529464   \n",
              "\n",
              "   mfcc_max_12  mfcc_max_13  mfcc_max_14  mfcc_max_15  mfcc_max_16  \\\n",
              "0    -0.066422    -0.952170    -0.696883    -1.270881    -1.176551   \n",
              "1    -0.092400    -0.112360    -0.529873    -0.909262    -0.725138   \n",
              "2    -1.023676    -1.469105    -1.471126    -1.453583    -1.027109   \n",
              "3    -0.893290    -0.352136    -0.930853    -0.685324    -0.775293   \n",
              "4    -0.348217    -0.874329     0.264549    -1.045235    -0.386692   \n",
              "\n",
              "   mfcc_max_17  mfcc_max_18  mfcc_max_19  mfcc_max_20  \n",
              "0    -0.282666    -0.846374    -1.076724    -0.577233  \n",
              "1    -0.606210    -0.553577    -1.079252    -0.087085  \n",
              "2     0.083603    -1.269402    -1.281879    -1.050536  \n",
              "3    -0.179770    -0.418968    -0.558661    -0.885703  \n",
              "4    -0.337142    -0.500581    -0.165303    -0.397244  \n",
              "\n",
              "[5 rows x 137 columns]"
            ]
          },
          "execution_count": 3,
          "metadata": {},
          "output_type": "execute_result"
        }
      ],
      "source": [
        "data_emotional_intensity.head()"
      ]
    },
    {
      "cell_type": "code",
      "execution_count": 4,
      "metadata": {
        "colab": {
          "base_uri": "https://localhost:8080/"
        },
        "id": "1_wZXGb7xswE",
        "outputId": "e2f8b7ab-71bd-4eda-d61d-104819b79cc0"
      },
      "outputs": [
        {
          "data": {
            "text/plain": [
              "(1440, 137)"
            ]
          },
          "execution_count": 4,
          "metadata": {},
          "output_type": "execute_result"
        }
      ],
      "source": [
        "data_emotional_intensity.shape"
      ]
    },
    {
      "cell_type": "markdown",
      "metadata": {
        "id": "zoACzFKjwt13"
      },
      "source": [
        "## Emotion"
      ]
    },
    {
      "cell_type": "code",
      "execution_count": 5,
      "metadata": {
        "colab": {
          "base_uri": "https://localhost:8080/"
        },
        "id": "qAvB_yUJbKUn",
        "outputId": "3a7179d9-f370-46fb-b319-11ddc42381f9"
      },
      "outputs": [
        {
          "data": {
            "text/plain": [
              "(1152, 288, 1152, 288)"
            ]
          },
          "execution_count": 5,
          "metadata": {},
          "output_type": "execute_result"
        }
      ],
      "source": [
        "from sklearn.model_selection import train_test_split\n",
        "\n",
        "X= data_emotion.drop('emotion',axis=1)\n",
        "y= data_emotion.emotion\n",
        "\n",
        "X_train, X_test, y_train, y_test = train_test_split(X, y, test_size=0.2, random_state=42)\n",
        "len(X_train), len(X_test), len(y_train), len(y_test)"
      ]
    },
    {
      "cell_type": "code",
      "execution_count": 6,
      "metadata": {},
      "outputs": [],
      "source": [
        "# Saving X_test and y_test for use in the assessment phase\n",
        "X_test.to_csv('../05_Assess/X_test_emotion.csv', index=False)\n",
        "y_test.to_csv('../05_Assess/y_test_emotion.csv', index=False)"
      ]
    },
    {
      "cell_type": "code",
      "execution_count": 7,
      "metadata": {
        "colab": {
          "base_uri": "https://localhost:8080/"
        },
        "id": "GDkF2YiUZCKC",
        "outputId": "9a5ff7fe-8b9c-4711-8b26-a1145e55e3aa"
      },
      "outputs": [
        {
          "data": {
            "text/plain": [
              "(1152, 136)"
            ]
          },
          "execution_count": 7,
          "metadata": {},
          "output_type": "execute_result"
        }
      ],
      "source": [
        "X_train.shape"
      ]
    },
    {
      "cell_type": "code",
      "execution_count": 8,
      "metadata": {
        "colab": {
          "base_uri": "https://localhost:8080/"
        },
        "id": "982-LY0-GYle",
        "outputId": "bbb4259a-0e1a-4cf7-822e-c819597e0073"
      },
      "outputs": [],
      "source": [
        "from sklearn.ensemble import GradientBoostingClassifier\n",
        "from sklearn.metrics import confusion_matrix, classification_report\n",
        "\n",
        "# Initialize the Gradient Boosting classifier\n",
        "gb_classifier = GradientBoostingClassifier(random_state=69)\n",
        "\n",
        "# Train the classifier on the training data\n",
        "gb_classifier.fit(X_train, y_train)\n",
        "\n",
        "# Predicting on the test set\n",
        "y_pred_gb_simple = gb_classifier.predict(X_test)\n",
        "\n",
        "\n",
        "# save the model to disk\n",
        "import pickle\n",
        "filename = 'gb_classifier_emotion.pkl'\n",
        "pickle.dump(gb_classifier, open(filename, 'wb'))"
      ]
    },
    {
      "cell_type": "code",
      "execution_count": 9,
      "metadata": {},
      "outputs": [
        {
          "data": {
            "text/plain": [
              "{'ccp_alpha': 0.0,\n",
              " 'criterion': 'friedman_mse',\n",
              " 'init': None,\n",
              " 'learning_rate': 0.1,\n",
              " 'loss': 'log_loss',\n",
              " 'max_depth': 3,\n",
              " 'max_features': None,\n",
              " 'max_leaf_nodes': None,\n",
              " 'min_impurity_decrease': 0.0,\n",
              " 'min_samples_leaf': 1,\n",
              " 'min_samples_split': 2,\n",
              " 'min_weight_fraction_leaf': 0.0,\n",
              " 'n_estimators': 100,\n",
              " 'n_iter_no_change': None,\n",
              " 'random_state': 69,\n",
              " 'subsample': 1.0,\n",
              " 'tol': 0.0001,\n",
              " 'validation_fraction': 0.1,\n",
              " 'verbose': 0,\n",
              " 'warm_start': False}"
            ]
          },
          "execution_count": 9,
          "metadata": {},
          "output_type": "execute_result"
        }
      ],
      "source": [
        "gb_classifier.get_params()"
      ]
    },
    {
      "cell_type": "code",
      "execution_count": 10,
      "metadata": {
        "colab": {
          "base_uri": "https://localhost:8080/"
        },
        "id": "b-_KIYcXgcbR",
        "outputId": "5602def2-f878-4e0a-a3dd-4f8c956438fd"
      },
      "outputs": [
        {
          "name": "stdout",
          "output_type": "stream",
          "text": [
            "              precision    recall  f1-score   support\n",
            "\n",
            "           1       0.53      0.50      0.51        18\n",
            "           2       0.65      0.91      0.76        35\n",
            "           3       0.59      0.59      0.59        34\n",
            "           4       0.61      0.52      0.56        42\n",
            "           5       0.74      0.52      0.61        33\n",
            "           6       0.58      0.64      0.61        39\n",
            "           7       0.62      0.61      0.62        46\n",
            "           8       0.63      0.63      0.63        41\n",
            "\n",
            "    accuracy                           0.62       288\n",
            "   macro avg       0.62      0.62      0.61       288\n",
            "weighted avg       0.62      0.62      0.62       288\n",
            "\n"
          ]
        }
      ],
      "source": [
        "print(classification_report(y_test, y_pred_gb_simple))"
      ]
    },
    {
      "cell_type": "code",
      "execution_count": 11,
      "metadata": {
        "colab": {
          "base_uri": "https://localhost:8080/"
        },
        "id": "TT4KBmDFTPQA",
        "outputId": "77823978-b740-4598-959d-0130ac98f963"
      },
      "outputs": [
        {
          "data": {
            "text/plain": [
              "(0.6215277777777778,\n",
              " 0.6198392177162364,\n",
              " 0.6156687102534211,\n",
              " 0.6118697807453188)"
            ]
          },
          "execution_count": 11,
          "metadata": {},
          "output_type": "execute_result"
        }
      ],
      "source": [
        "from sklearn.metrics import accuracy_score, precision_score, recall_score, f1_score\n",
        "\n",
        "# Calculating Accuracy, Precision, Recall, and F1 Score for the Gradient Boosting model\n",
        "accuracy_gb = accuracy_score(y_test, y_pred_gb_simple)\n",
        "precision_gb = precision_score(y_test, y_pred_gb_simple, average='macro')\n",
        "recall_gb = recall_score(y_test, y_pred_gb_simple, average='macro')\n",
        "f1_score_gb = f1_score(y_test, y_pred_gb_simple, average='macro')\n",
        "\n",
        "accuracy_gb, precision_gb, recall_gb, f1_score_gb"
      ]
    },
    {
      "cell_type": "code",
      "execution_count": 12,
      "metadata": {
        "id": "I4PkPzAT3eqc"
      },
      "outputs": [],
      "source": [
        "from sklearn.ensemble import RandomForestClassifier\n",
        "\n",
        "N_ESTIMATORS = 1500 # @param {type:'slider', min:100, max:2000, step:100}\n",
        "\n",
        "random_forest = RandomForestClassifier(n_estimators=N_ESTIMATORS).fit(X_train, y_train)\n",
        "filename = 'rf_classifier_emotion.pkl'\n",
        "pickle.dump(random_forest, open(filename, 'wb'))"
      ]
    },
    {
      "cell_type": "code",
      "execution_count": 13,
      "metadata": {
        "colab": {
          "base_uri": "https://localhost:8080/"
        },
        "id": "6xhn0sYm3eqd",
        "outputId": "3022aa6f-ff25-4ad0-f739-3982a0708d41"
      },
      "outputs": [
        {
          "data": {
            "text/plain": [
              "0.6354166666666666"
            ]
          },
          "execution_count": 13,
          "metadata": {},
          "output_type": "execute_result"
        }
      ],
      "source": [
        "random_forest.score(X_test,y_test)"
      ]
    },
    {
      "cell_type": "markdown",
      "metadata": {
        "id": "mISA-tnbyPTu"
      },
      "source": [
        "## Emotional Intensity"
      ]
    },
    {
      "cell_type": "code",
      "execution_count": 14,
      "metadata": {
        "colab": {
          "base_uri": "https://localhost:8080/"
        },
        "id": "vckQrDhUxcru",
        "outputId": "d33a675b-00cc-4128-ae6d-8f31b9101a93"
      },
      "outputs": [
        {
          "data": {
            "text/plain": [
              "0       0\n",
              "1       0\n",
              "2       0\n",
              "3       0\n",
              "4       0\n",
              "       ..\n",
              "1435    1\n",
              "1436    0\n",
              "1437    0\n",
              "1438    0\n",
              "1439    0\n",
              "Name: emotional_intensity, Length: 1440, dtype: int64"
            ]
          },
          "execution_count": 14,
          "metadata": {},
          "output_type": "execute_result"
        }
      ],
      "source": [
        "data_emotional_intensity.emotional_intensity"
      ]
    },
    {
      "cell_type": "code",
      "execution_count": 15,
      "metadata": {
        "colab": {
          "base_uri": "https://localhost:8080/"
        },
        "id": "bDlTDz3QvMpg",
        "outputId": "27124e4a-acc1-4538-f8d2-f04c134a2842"
      },
      "outputs": [
        {
          "data": {
            "text/plain": [
              "(1152, 288, 1152, 288)"
            ]
          },
          "execution_count": 15,
          "metadata": {},
          "output_type": "execute_result"
        }
      ],
      "source": [
        "from sklearn.model_selection import train_test_split\n",
        "\n",
        "X= data_emotional_intensity.drop('emotional_intensity',axis=1)\n",
        "y= data_emotional_intensity.emotional_intensity\n",
        "\n",
        "X_train, X_test, y_train, y_test = train_test_split(X, y, test_size=0.2, random_state=42)\n",
        "len(X_train), len(X_test), len(y_train), len(y_test)"
      ]
    },
    {
      "cell_type": "code",
      "execution_count": 16,
      "metadata": {},
      "outputs": [],
      "source": [
        "# saving the test emotional_intensity \n",
        "X_test.to_csv('../05_Assess/X_test_emotional_intensity.csv', index=False)\n",
        "y_test.to_csv('../05_Assess/y_test_emotional_intensity.csv', index=False)"
      ]
    },
    {
      "cell_type": "code",
      "execution_count": 17,
      "metadata": {
        "id": "-mliU1dcvMs0"
      },
      "outputs": [],
      "source": [
        "from sklearn.ensemble import RandomForestClassifier\n",
        "\n",
        "N_ESTIMATORS = 200 # @param {type:'slider', min:100, max:2000, step:100}\n",
        "\n",
        "random_forest = RandomForestClassifier(n_estimators=N_ESTIMATORS).fit(X_train, y_train)\n",
        "\n",
        "rf_pred = random_forest.predict(X_test)"
      ]
    },
    {
      "cell_type": "code",
      "execution_count": 18,
      "metadata": {
        "colab": {
          "base_uri": "https://localhost:8080/"
        },
        "id": "2zFOOcGpvMwP",
        "outputId": "7dbe80e8-289c-4e5c-bcf9-1f24db12f265"
      },
      "outputs": [
        {
          "data": {
            "text/plain": [
              "0.7916666666666666"
            ]
          },
          "execution_count": 18,
          "metadata": {},
          "output_type": "execute_result"
        }
      ],
      "source": [
        "random_forest.score(X_test,y_test)"
      ]
    },
    {
      "cell_type": "code",
      "execution_count": 19,
      "metadata": {
        "colab": {
          "base_uri": "https://localhost:8080/"
        },
        "id": "tx64BRHGvNB3",
        "outputId": "e3db423d-8a5c-4664-e515-836cb056eef6"
      },
      "outputs": [
        {
          "name": "stdout",
          "output_type": "stream",
          "text": [
            "              precision    recall  f1-score   support\n",
            "\n",
            "           0       0.81      0.86      0.84       177\n",
            "           1       0.75      0.68      0.72       111\n",
            "\n",
            "    accuracy                           0.79       288\n",
            "   macro avg       0.78      0.77      0.78       288\n",
            "weighted avg       0.79      0.79      0.79       288\n",
            "\n"
          ]
        }
      ],
      "source": [
        "print(classification_report(y_test, rf_pred))"
      ]
    },
    {
      "cell_type": "code",
      "execution_count": 20,
      "metadata": {
        "colab": {
          "base_uri": "https://localhost:8080/"
        },
        "id": "iwoFTzSNzrj4",
        "outputId": "b73f48b7-68a4-4d87-cb77-1e4e30a2222e"
      },
      "outputs": [
        {
          "data": {
            "text/plain": [
              "array([[152,  25],\n",
              "       [ 35,  76]])"
            ]
          },
          "execution_count": 20,
          "metadata": {},
          "output_type": "execute_result"
        }
      ],
      "source": [
        "# Generating the confusion matrix\n",
        "conf_matrix_gb = confusion_matrix(y_test, rf_pred)\n",
        "\n",
        "conf_matrix_gb"
      ]
    },
    {
      "cell_type": "code",
      "execution_count": 21,
      "metadata": {},
      "outputs": [],
      "source": [
        "filename = 'rf_classifier_emotional_intensity.pkl'\n",
        "pickle.dump(random_forest, open(filename, 'wb'))"
      ]
    },
    {
      "cell_type": "code",
      "execution_count": null,
      "metadata": {},
      "outputs": [],
      "source": []
    }
  ],
  "metadata": {
    "colab": {
      "provenance": []
    },
    "kernelspec": {
      "display_name": "Python 3",
      "name": "python3"
    },
    "language_info": {
      "codemirror_mode": {
        "name": "ipython",
        "version": 3
      },
      "file_extension": ".py",
      "mimetype": "text/x-python",
      "name": "python",
      "nbconvert_exporter": "python",
      "pygments_lexer": "ipython3",
      "version": "3.8.15"
    }
  },
  "nbformat": 4,
  "nbformat_minor": 0
}
