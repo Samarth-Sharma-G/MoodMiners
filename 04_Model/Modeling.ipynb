{
  "nbformat": 4,
  "nbformat_minor": 0,
  "metadata": {
    "colab": {
      "provenance": []
    },
    "kernelspec": {
      "name": "python3",
      "display_name": "Python 3"
    },
    "language_info": {
      "name": "python"
    }
  },
  "cells": [
    {
      "cell_type": "code",
      "execution_count": 1,
      "metadata": {
        "colab": {
          "base_uri": "https://localhost:8080/"
        },
        "id": "neWU-c5jRCC1",
        "outputId": "06e5be02-8170-4d1d-d4a2-93a944cca6eb"
      },
      "outputs": [
        {
          "output_type": "stream",
          "name": "stdout",
          "text": [
            "Mounted at /content/drive\n"
          ]
        }
      ],
      "source": [
        "from google.colab import drive\n",
        "drive.mount('/content/drive')"
      ]
    },
    {
      "cell_type": "markdown",
      "source": [
        "## **Loading Preprocessed Data**"
      ],
      "metadata": {
        "id": "pI6X7_FrU0_b"
      }
    },
    {
      "cell_type": "code",
      "source": [
        "import pandas as pd\n",
        "\n",
        "file1 = '/content/drive/My Drive/Data_Mining_CMPE_255/data_emotional_intensity.csv'\n",
        "file2 = '/content/drive/My Drive/Data_Mining_CMPE_255/data_emotion.csv'\n",
        "# Save the DataFrame as a CSV file\n",
        "data_emotional_intensity = pd.read_csv(file1)\n",
        "data_emotion = pd.read_csv(file2)"
      ],
      "metadata": {
        "id": "1zAJ5z1dRNd2"
      },
      "execution_count": 52,
      "outputs": []
    },
    {
      "cell_type": "code",
      "source": [
        "data_emotional_intensity.shape"
      ],
      "metadata": {
        "colab": {
          "base_uri": "https://localhost:8080/"
        },
        "id": "1_wZXGb7xswE",
        "outputId": "e2f8b7ab-71bd-4eda-d61d-104819b79cc0"
      },
      "execution_count": 25,
      "outputs": [
        {
          "output_type": "execute_result",
          "data": {
            "text/plain": [
              "(1440, 137)"
            ]
          },
          "metadata": {},
          "execution_count": 25
        }
      ]
    },
    {
      "cell_type": "markdown",
      "source": [
        "## **Emotion**"
      ],
      "metadata": {
        "id": "zoACzFKjwt13"
      }
    },
    {
      "cell_type": "code",
      "source": [
        "from sklearn.model_selection import train_test_split\n",
        "\n",
        "X= data_emotion.drop('emotion',axis=1)\n",
        "y= data_emotion.emotion\n",
        "\n",
        "X_train, X_test, y_train, y_test = train_test_split(X, y, test_size=0.2, random_state=42)\n",
        "len(X_train), len(X_test), len(y_train), len(y_test)"
      ],
      "metadata": {
        "colab": {
          "base_uri": "https://localhost:8080/"
        },
        "id": "qAvB_yUJbKUn",
        "outputId": "3a7179d9-f370-46fb-b319-11ddc42381f9"
      },
      "execution_count": 53,
      "outputs": [
        {
          "output_type": "execute_result",
          "data": {
            "text/plain": [
              "(1152, 288, 1152, 288)"
            ]
          },
          "metadata": {},
          "execution_count": 53
        }
      ]
    },
    {
      "cell_type": "code",
      "source": [
        "X_train.shape"
      ],
      "metadata": {
        "colab": {
          "base_uri": "https://localhost:8080/"
        },
        "id": "GDkF2YiUZCKC",
        "outputId": "9a5ff7fe-8b9c-4711-8b26-a1145e55e3aa"
      },
      "execution_count": 54,
      "outputs": [
        {
          "output_type": "execute_result",
          "data": {
            "text/plain": [
              "(1152, 136)"
            ]
          },
          "metadata": {},
          "execution_count": 54
        }
      ]
    },
    {
      "cell_type": "code",
      "source": [
        "from sklearn.ensemble import GradientBoostingClassifier\n",
        "from sklearn.metrics import confusion_matrix, classification_report\n",
        "\n",
        "# Initialize the Gradient Boosting classifier\n",
        "gb_classifier = GradientBoostingClassifier(random_state=69)\n",
        "\n",
        "# Train the classifier on the training data\n",
        "gb_classifier.fit(X_train, y_train)\n",
        "\n",
        "\n",
        "# Predicting on the test set\n",
        "y_pred_gb_simple = gb_classifier.predict(X_test)\n",
        "\n",
        "# Generating the confusion matrix\n",
        "conf_matrix_gb = confusion_matrix(y_test, y_pred_gb_simple)\n",
        "\n",
        "conf_matrix_gb"
      ],
      "metadata": {
        "colab": {
          "base_uri": "https://localhost:8080/"
        },
        "id": "982-LY0-GYle",
        "outputId": "bbb4259a-0e1a-4cf7-822e-c819597e0073"
      },
      "execution_count": 28,
      "outputs": [
        {
          "output_type": "execute_result",
          "data": {
            "text/plain": [
              "array([[ 9,  4,  0,  4,  0,  0,  0,  1],\n",
              "       [ 1, 32,  0,  1,  0,  0,  1,  0],\n",
              "       [ 1,  0, 20,  0,  1,  3,  2,  7],\n",
              "       [ 3,  8,  3, 23,  0,  3,  2,  0],\n",
              "       [ 0,  0,  1,  1, 17,  3,  9,  2],\n",
              "       [ 1,  2,  2,  5,  0, 25,  2,  2],\n",
              "       [ 1,  3,  3,  3,  4,  1, 28,  3],\n",
              "       [ 0,  0,  4,  1,  1,  8,  1, 26]])"
            ]
          },
          "metadata": {},
          "execution_count": 28
        }
      ]
    },
    {
      "cell_type": "code",
      "source": [
        "print(classification_report(y_test, y_pred_gb_simple))"
      ],
      "metadata": {
        "colab": {
          "base_uri": "https://localhost:8080/"
        },
        "id": "b-_KIYcXgcbR",
        "outputId": "5602def2-f878-4e0a-a3dd-4f8c956438fd"
      },
      "execution_count": 30,
      "outputs": [
        {
          "output_type": "stream",
          "name": "stdout",
          "text": [
            "              precision    recall  f1-score   support\n",
            "\n",
            "           1       0.56      0.50      0.53        18\n",
            "           2       0.65      0.91      0.76        35\n",
            "           3       0.61      0.59      0.60        34\n",
            "           4       0.61      0.55      0.57        42\n",
            "           5       0.74      0.52      0.61        33\n",
            "           6       0.58      0.64      0.61        39\n",
            "           7       0.62      0.61      0.62        46\n",
            "           8       0.63      0.63      0.63        41\n",
            "\n",
            "    accuracy                           0.62       288\n",
            "   macro avg       0.63      0.62      0.62       288\n",
            "weighted avg       0.63      0.62      0.62       288\n",
            "\n"
          ]
        }
      ]
    },
    {
      "cell_type": "code",
      "source": [
        "from sklearn.metrics import accuracy_score, precision_score, recall_score, f1_score\n",
        "\n",
        "# Calculating Accuracy, Precision, Recall, and F1 Score for the Gradient Boosting model\n",
        "accuracy_gb = accuracy_score(y_test, y_pred_gb_simple)\n",
        "precision_gb = precision_score(y_test, y_pred_gb_simple, average='macro')\n",
        "recall_gb = recall_score(y_test, y_pred_gb_simple, average='macro')\n",
        "f1_score_gb = f1_score(y_test, y_pred_gb_simple, average='macro')\n",
        "\n",
        "accuracy_gb, precision_gb, recall_gb, f1_score_gb"
      ],
      "metadata": {
        "colab": {
          "base_uri": "https://localhost:8080/"
        },
        "id": "TT4KBmDFTPQA",
        "outputId": "77823978-b740-4598-959d-0130ac98f963"
      },
      "execution_count": 31,
      "outputs": [
        {
          "output_type": "execute_result",
          "data": {
            "text/plain": [
              "(0.625, 0.6254724169688242, 0.6186449007296115, 0.6162201704419552)"
            ]
          },
          "metadata": {},
          "execution_count": 31
        }
      ]
    },
    {
      "cell_type": "code",
      "source": [
        "from sklearn.ensemble import RandomForestClassifier\n",
        "\n",
        "N_ESTIMATORS = 1500 # @param {type:'slider', min:100, max:2000, step:100}\n",
        "\n",
        "random_forest = RandomForestClassifier(n_estimators=N_ESTIMATORS).fit(X_train, y_train)"
      ],
      "metadata": {
        "id": "I4PkPzAT3eqc"
      },
      "execution_count": null,
      "outputs": []
    },
    {
      "cell_type": "code",
      "source": [
        "random_forest.score(X_test,y_test)"
      ],
      "metadata": {
        "colab": {
          "base_uri": "https://localhost:8080/"
        },
        "outputId": "3022aa6f-ff25-4ad0-f739-3982a0708d41",
        "id": "6xhn0sYm3eqd"
      },
      "execution_count": null,
      "outputs": [
        {
          "output_type": "execute_result",
          "data": {
            "text/plain": [
              "0.6458333333333334"
            ]
          },
          "metadata": {},
          "execution_count": 72
        }
      ]
    },
    {
      "cell_type": "markdown",
      "source": [
        "## **Emotional Intensity**"
      ],
      "metadata": {
        "id": "mISA-tnbyPTu"
      }
    },
    {
      "cell_type": "code",
      "source": [
        "data_emotional_intensity.emotional_intensity"
      ],
      "metadata": {
        "colab": {
          "base_uri": "https://localhost:8080/"
        },
        "id": "vckQrDhUxcru",
        "outputId": "d33a675b-00cc-4128-ae6d-8f31b9101a93"
      },
      "execution_count": 74,
      "outputs": [
        {
          "output_type": "execute_result",
          "data": {
            "text/plain": [
              "0       0\n",
              "1       0\n",
              "2       0\n",
              "3       0\n",
              "4       0\n",
              "       ..\n",
              "1435    1\n",
              "1436    0\n",
              "1437    0\n",
              "1438    0\n",
              "1439    0\n",
              "Name: emotional_intensity, Length: 1440, dtype: int64"
            ]
          },
          "metadata": {},
          "execution_count": 74
        }
      ]
    },
    {
      "cell_type": "code",
      "source": [
        "from sklearn.model_selection import train_test_split\n",
        "\n",
        "X= data_emotional_intensity.drop('emotional_intensity',axis=1)\n",
        "y= data_emotional_intensity.emotional_intensity\n",
        "\n",
        "X_train, X_test, y_train, y_test = train_test_split(X, y, test_size=0.2, random_state=42)\n",
        "len(X_train), len(X_test), len(y_train), len(y_test)"
      ],
      "metadata": {
        "colab": {
          "base_uri": "https://localhost:8080/"
        },
        "id": "bDlTDz3QvMpg",
        "outputId": "27124e4a-acc1-4538-f8d2-f04c134a2842"
      },
      "execution_count": 75,
      "outputs": [
        {
          "output_type": "execute_result",
          "data": {
            "text/plain": [
              "(1152, 288, 1152, 288)"
            ]
          },
          "metadata": {},
          "execution_count": 75
        }
      ]
    },
    {
      "cell_type": "code",
      "source": [
        "from sklearn.ensemble import RandomForestClassifier\n",
        "\n",
        "N_ESTIMATORS = 200 # @param {type:'slider', min:100, max:2000, step:100}\n",
        "\n",
        "random_forest = RandomForestClassifier(n_estimators=N_ESTIMATORS).fit(X_train, y_train)\n",
        "\n",
        "rf_pred = random_forest.predict(X_test)"
      ],
      "metadata": {
        "id": "-mliU1dcvMs0"
      },
      "execution_count": 82,
      "outputs": []
    },
    {
      "cell_type": "code",
      "source": [
        "random_forest.score(X_test,y_test)"
      ],
      "metadata": {
        "colab": {
          "base_uri": "https://localhost:8080/"
        },
        "id": "2zFOOcGpvMwP",
        "outputId": "7dbe80e8-289c-4e5c-bcf9-1f24db12f265"
      },
      "execution_count": 83,
      "outputs": [
        {
          "output_type": "execute_result",
          "data": {
            "text/plain": [
              "0.7986111111111112"
            ]
          },
          "metadata": {},
          "execution_count": 83
        }
      ]
    },
    {
      "cell_type": "code",
      "source": [
        "print(classification_report(y_test, rf_pred))"
      ],
      "metadata": {
        "colab": {
          "base_uri": "https://localhost:8080/"
        },
        "id": "tx64BRHGvNB3",
        "outputId": "e3db423d-8a5c-4664-e515-836cb056eef6"
      },
      "execution_count": 84,
      "outputs": [
        {
          "output_type": "stream",
          "name": "stdout",
          "text": [
            "              precision    recall  f1-score   support\n",
            "\n",
            "           0       0.83      0.85      0.84       177\n",
            "           1       0.75      0.71      0.73       111\n",
            "\n",
            "    accuracy                           0.80       288\n",
            "   macro avg       0.79      0.78      0.79       288\n",
            "weighted avg       0.80      0.80      0.80       288\n",
            "\n"
          ]
        }
      ]
    },
    {
      "cell_type": "code",
      "source": [
        "# Generating the confusion matrix\n",
        "conf_matrix_gb = confusion_matrix(y_test, rf_pred)\n",
        "\n",
        "conf_matrix_gb"
      ],
      "metadata": {
        "colab": {
          "base_uri": "https://localhost:8080/"
        },
        "id": "iwoFTzSNzrj4",
        "outputId": "b73f48b7-68a4-4d87-cb77-1e4e30a2222e"
      },
      "execution_count": 85,
      "outputs": [
        {
          "output_type": "execute_result",
          "data": {
            "text/plain": [
              "array([[151,  26],\n",
              "       [ 32,  79]])"
            ]
          },
          "metadata": {},
          "execution_count": 85
        }
      ]
    }
  ]
}