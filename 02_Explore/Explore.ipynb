{
  "cells": [
    {
      "cell_type": "markdown",
      "metadata": {
        "id": "Nkz2GW_jPSYJ"
      },
      "source": [
        "# Explore"
      ]
    },
    {
      "cell_type": "code",
      "execution_count": 31,
      "metadata": {},
      "outputs": [],
      "source": [
        "import os\n",
        "import json\n",
        "import pandas as pd"
      ]
    },
    {
      "cell_type": "markdown",
      "metadata": {},
      "source": [
        "## Loading the Data from Sample Stage"
      ]
    },
    {
      "cell_type": "code",
      "execution_count": 32,
      "metadata": {},
      "outputs": [
        {
          "name": "stdout",
          "output_type": "stream",
          "text": [
            "Loading the zip file: actors_meta_df.csv\n"
          ]
        }
      ],
      "source": [
        "stage1_sample_path = '../01_Sample/actors_meta_df.csv'\n",
        "df = pd.DataFrame()\n",
        "# Check if the zip file exists\n",
        "if os.path.exists(stage1_sample_path):\n",
        "    print('Loading the zip file: ' + os.path.basename(stage1_sample_path))\n",
        "    df = pd.read_csv(stage1_sample_path)\n",
        "else:\n",
        "    print('Csv file not found in 01_Sample. Please check the directory. Make sure you run python sample.py first.')\n",
        "# testing that the shards are converted to the correct format (json string)\n",
        "# convert the json stringa back to a list of lists for the list of list features using json.loads\n",
        "df['spectral_centroid'] = df['spectral_centroid'].apply(lambda x: json.loads(x))\n",
        "df['spectral_bandwidth'] = df['spectral_bandwidth'].apply(lambda x: json.loads(x))\n",
        "df['spectral_rolloff'] = df['spectral_rolloff'].apply(lambda x: json.loads(x))\n",
        "df['zero_crossing_rate'] = df['zero_crossing_rate'].apply(lambda x: json.loads(x))\n",
        "df['chroma_stft'] = df['chroma_stft'].apply(lambda x: json.loads(x))\n",
        "df['mfcc'] = df['mfcc'].apply(lambda x: json.loads(x))\n",
        "df['rmse'] = df['rmse'].apply(lambda x: json.loads(x))\n",
        "df['onset_env'] = df['onset_env'].apply(lambda x: json.loads(x))\n",
        "df['y'] = df['y'].apply(lambda x: json.loads(x))"
      ]
    },
    {
      "cell_type": "markdown",
      "metadata": {
        "id": "9qhvzr8QNixX"
      },
      "source": [
        "## Converting Audio Data to numerical data and retriving labels from metadata"
      ]
    },
    {
      "cell_type": "code",
      "execution_count": 34,
      "metadata": {
        "colab": {
          "base_uri": "https://localhost:8080/",
          "height": 660
        },
        "id": "bGHjkaljm9hH",
        "outputId": "0d2fc061-c0db-4cc9-8ab4-596822bfb3ab"
      },
      "outputs": [
        {
          "data": {
            "text/html": [
              "<div>\n",
              "<style scoped>\n",
              "    .dataframe tbody tr th:only-of-type {\n",
              "        vertical-align: middle;\n",
              "    }\n",
              "\n",
              "    .dataframe tbody tr th {\n",
              "        vertical-align: top;\n",
              "    }\n",
              "\n",
              "    .dataframe thead th {\n",
              "        text-align: right;\n",
              "    }\n",
              "</style>\n",
              "<table border=\"1\" class=\"dataframe\">\n",
              "  <thead>\n",
              "    <tr style=\"text-align: right;\">\n",
              "      <th></th>\n",
              "      <th>actor</th>\n",
              "      <th>tempo</th>\n",
              "      <th>y</th>\n",
              "      <th>sr</th>\n",
              "      <th>onset_env</th>\n",
              "      <th>spectral_centroid</th>\n",
              "      <th>spectral_bandwidth</th>\n",
              "      <th>spectral_rolloff</th>\n",
              "      <th>zero_crossing_rate</th>\n",
              "      <th>chroma_stft</th>\n",
              "      <th>mfcc</th>\n",
              "      <th>rmse</th>\n",
              "      <th>modality</th>\n",
              "      <th>vocal_channel</th>\n",
              "      <th>emotion</th>\n",
              "      <th>emotional_intensity</th>\n",
              "      <th>statement</th>\n",
              "      <th>repetition</th>\n",
              "    </tr>\n",
              "  </thead>\n",
              "  <tbody>\n",
              "    <tr>\n",
              "      <th>0</th>\n",
              "      <td>Actor_11</td>\n",
              "      <td>83.354335</td>\n",
              "      <td>[-4.1964165575336665e-05, -6.885814946144819e-...</td>\n",
              "      <td>22050</td>\n",
              "      <td>[0.0, 0.0, 0.0, 0.0, 0.0, 0.5369328260421753, ...</td>\n",
              "      <td>[[3305.681736617078, 3809.400210109509, 4254.4...</td>\n",
              "      <td>[[3300.888911293997, 3360.0111898209984, 3240....</td>\n",
              "      <td>[[7827.3193359375, 8171.8505859375, 8311.81640...</td>\n",
              "      <td>[[0.13427734375, 0.25, 0.314453125, 0.33837890...</td>\n",
              "      <td>[[0.9302664995193481, 0.9860062003135681, 0.73...</td>\n",
              "      <td>[[-883.4555053710938, -893.8783569335938, -901...</td>\n",
              "      <td>[[1.6108253475977108e-05, 1.6326030163327232e-...</td>\n",
              "      <td>3</td>\n",
              "      <td>1</td>\n",
              "      <td>1</td>\n",
              "      <td>1</td>\n",
              "      <td>2</td>\n",
              "      <td>2</td>\n",
              "    </tr>\n",
              "    <tr>\n",
              "      <th>1</th>\n",
              "      <td>Actor_11</td>\n",
              "      <td>71.777344</td>\n",
              "      <td>[3.963866038247943e-05, 8.013407932594419e-05,...</td>\n",
              "      <td>22050</td>\n",
              "      <td>[0.0, 0.0, 0.0, 0.2873375415802002, 0.25994974...</td>\n",
              "      <td>[[2806.2260232447206, 3550.7743308097256, 3662...</td>\n",
              "      <td>[[3211.7066378204213, 3329.503055299506, 3278....</td>\n",
              "      <td>[[7095.1904296875, 7913.4521484375, 7913.45214...</td>\n",
              "      <td>[[0.0751953125, 0.17822265625, 0.19287109375, ...</td>\n",
              "      <td>[[1.0, 1.0, 0.8694581985473633, 0.613543748855...</td>\n",
              "      <td>[[-887.3533935546875, -892.3982543945312, -898...</td>\n",
              "      <td>[[2.7592388505581766e-05, 3.107071097474545e-0...</td>\n",
              "      <td>3</td>\n",
              "      <td>1</td>\n",
              "      <td>2</td>\n",
              "      <td>1</td>\n",
              "      <td>2</td>\n",
              "      <td>1</td>\n",
              "    </tr>\n",
              "    <tr>\n",
              "      <th>2</th>\n",
              "      <td>Actor_11</td>\n",
              "      <td>99.384014</td>\n",
              "      <td>[0.0, 0.0, 0.0, 0.0, 0.0, 0.0, 0.0, 0.0, 0.0, ...</td>\n",
              "      <td>22050</td>\n",
              "      <td>[0.0, 0.0, 0.0, 1.2474737167358398, 0.78880399...</td>\n",
              "      <td>[[2300.024697765367, 2608.3085662666576, 3628....</td>\n",
              "      <td>[[3202.360377039719, 3266.0767073783027, 3358....</td>\n",
              "      <td>[[6804.4921875, 7084.423828125, 8021.118164062...</td>\n",
              "      <td>[[0.13623046875, 0.18994140625, 0.2802734375, ...</td>\n",
              "      <td>[[0.8779793977737427, 0.6921616196632385, 0.62...</td>\n",
              "      <td>[[-924.48291015625, -910.8308715820312, -910.0...</td>\n",
              "      <td>[[5.010519453207962e-05, 5.149727803654969e-05...</td>\n",
              "      <td>3</td>\n",
              "      <td>1</td>\n",
              "      <td>2</td>\n",
              "      <td>2</td>\n",
              "      <td>1</td>\n",
              "      <td>1</td>\n",
              "    </tr>\n",
              "    <tr>\n",
              "      <th>3</th>\n",
              "      <td>Actor_11</td>\n",
              "      <td>161.499023</td>\n",
              "      <td>[1.5243997040670365e-05, 1.3807131836074404e-0...</td>\n",
              "      <td>22050</td>\n",
              "      <td>[0.0, 0.0, 0.0, 0.10534670948982239, 0.0921120...</td>\n",
              "      <td>[[3286.8306944711185, 3335.675485983033, 3444....</td>\n",
              "      <td>[[3321.0458692779025, 3356.6809595639897, 3383...</td>\n",
              "      <td>[[7698.1201171875, 7870.3857421875, 7999.58496...</td>\n",
              "      <td>[[0.14453125, 0.19091796875, 0.2431640625, 0.2...</td>\n",
              "      <td>[[0.8598794937133789, 0.7624518871307373, 0.53...</td>\n",
              "      <td>[[-842.189208984375, -841.1368408203125, -840....</td>\n",
              "      <td>[[2.4441273126285523e-05, 3.232677772757597e-0...</td>\n",
              "      <td>3</td>\n",
              "      <td>1</td>\n",
              "      <td>3</td>\n",
              "      <td>1</td>\n",
              "      <td>1</td>\n",
              "      <td>2</td>\n",
              "    </tr>\n",
              "    <tr>\n",
              "      <th>4</th>\n",
              "      <td>Actor_11</td>\n",
              "      <td>51.679688</td>\n",
              "      <td>[8.7517146312166e-05, 0.00013253894576337188, ...</td>\n",
              "      <td>22050</td>\n",
              "      <td>[0.0, 0.0, 0.0, 0.010161399841308594, 0.034371...</td>\n",
              "      <td>[[2361.408732526411, 2765.001568121494, 2920.2...</td>\n",
              "      <td>[[3101.7483706848116, 3278.125756621847, 3288....</td>\n",
              "      <td>[[6449.1943359375, 7256.689453125, 7396.655273...</td>\n",
              "      <td>[[0.0224609375, 0.09765625, 0.248046875, 0.255...</td>\n",
              "      <td>[[0.8078288435935974, 0.40341416001319885, 0.4...</td>\n",
              "      <td>[[-658.903076171875, -659.3871459960938, -659....</td>\n",
              "      <td>[[5.8222438383381814e-05, 6.489652150776237e-0...</td>\n",
              "      <td>3</td>\n",
              "      <td>1</td>\n",
              "      <td>3</td>\n",
              "      <td>2</td>\n",
              "      <td>2</td>\n",
              "      <td>2</td>\n",
              "    </tr>\n",
              "  </tbody>\n",
              "</table>\n",
              "</div>"
            ],
            "text/plain": [
              "      actor       tempo                                                  y  \\\n",
              "0  Actor_11   83.354335  [-4.1964165575336665e-05, -6.885814946144819e-...   \n",
              "1  Actor_11   71.777344  [3.963866038247943e-05, 8.013407932594419e-05,...   \n",
              "2  Actor_11   99.384014  [0.0, 0.0, 0.0, 0.0, 0.0, 0.0, 0.0, 0.0, 0.0, ...   \n",
              "3  Actor_11  161.499023  [1.5243997040670365e-05, 1.3807131836074404e-0...   \n",
              "4  Actor_11   51.679688  [8.7517146312166e-05, 0.00013253894576337188, ...   \n",
              "\n",
              "      sr                                          onset_env  \\\n",
              "0  22050  [0.0, 0.0, 0.0, 0.0, 0.0, 0.5369328260421753, ...   \n",
              "1  22050  [0.0, 0.0, 0.0, 0.2873375415802002, 0.25994974...   \n",
              "2  22050  [0.0, 0.0, 0.0, 1.2474737167358398, 0.78880399...   \n",
              "3  22050  [0.0, 0.0, 0.0, 0.10534670948982239, 0.0921120...   \n",
              "4  22050  [0.0, 0.0, 0.0, 0.010161399841308594, 0.034371...   \n",
              "\n",
              "                                   spectral_centroid  \\\n",
              "0  [[3305.681736617078, 3809.400210109509, 4254.4...   \n",
              "1  [[2806.2260232447206, 3550.7743308097256, 3662...   \n",
              "2  [[2300.024697765367, 2608.3085662666576, 3628....   \n",
              "3  [[3286.8306944711185, 3335.675485983033, 3444....   \n",
              "4  [[2361.408732526411, 2765.001568121494, 2920.2...   \n",
              "\n",
              "                                  spectral_bandwidth  \\\n",
              "0  [[3300.888911293997, 3360.0111898209984, 3240....   \n",
              "1  [[3211.7066378204213, 3329.503055299506, 3278....   \n",
              "2  [[3202.360377039719, 3266.0767073783027, 3358....   \n",
              "3  [[3321.0458692779025, 3356.6809595639897, 3383...   \n",
              "4  [[3101.7483706848116, 3278.125756621847, 3288....   \n",
              "\n",
              "                                    spectral_rolloff  \\\n",
              "0  [[7827.3193359375, 8171.8505859375, 8311.81640...   \n",
              "1  [[7095.1904296875, 7913.4521484375, 7913.45214...   \n",
              "2  [[6804.4921875, 7084.423828125, 8021.118164062...   \n",
              "3  [[7698.1201171875, 7870.3857421875, 7999.58496...   \n",
              "4  [[6449.1943359375, 7256.689453125, 7396.655273...   \n",
              "\n",
              "                                  zero_crossing_rate  \\\n",
              "0  [[0.13427734375, 0.25, 0.314453125, 0.33837890...   \n",
              "1  [[0.0751953125, 0.17822265625, 0.19287109375, ...   \n",
              "2  [[0.13623046875, 0.18994140625, 0.2802734375, ...   \n",
              "3  [[0.14453125, 0.19091796875, 0.2431640625, 0.2...   \n",
              "4  [[0.0224609375, 0.09765625, 0.248046875, 0.255...   \n",
              "\n",
              "                                         chroma_stft  \\\n",
              "0  [[0.9302664995193481, 0.9860062003135681, 0.73...   \n",
              "1  [[1.0, 1.0, 0.8694581985473633, 0.613543748855...   \n",
              "2  [[0.8779793977737427, 0.6921616196632385, 0.62...   \n",
              "3  [[0.8598794937133789, 0.7624518871307373, 0.53...   \n",
              "4  [[0.8078288435935974, 0.40341416001319885, 0.4...   \n",
              "\n",
              "                                                mfcc  \\\n",
              "0  [[-883.4555053710938, -893.8783569335938, -901...   \n",
              "1  [[-887.3533935546875, -892.3982543945312, -898...   \n",
              "2  [[-924.48291015625, -910.8308715820312, -910.0...   \n",
              "3  [[-842.189208984375, -841.1368408203125, -840....   \n",
              "4  [[-658.903076171875, -659.3871459960938, -659....   \n",
              "\n",
              "                                                rmse  modality  vocal_channel  \\\n",
              "0  [[1.6108253475977108e-05, 1.6326030163327232e-...         3              1   \n",
              "1  [[2.7592388505581766e-05, 3.107071097474545e-0...         3              1   \n",
              "2  [[5.010519453207962e-05, 5.149727803654969e-05...         3              1   \n",
              "3  [[2.4441273126285523e-05, 3.232677772757597e-0...         3              1   \n",
              "4  [[5.8222438383381814e-05, 6.489652150776237e-0...         3              1   \n",
              "\n",
              "   emotion  emotional_intensity  statement  repetition  \n",
              "0        1                    1          2           2  \n",
              "1        2                    1          2           1  \n",
              "2        2                    2          1           1  \n",
              "3        3                    1          1           2  \n",
              "4        3                    2          2           2  "
            ]
          },
          "execution_count": 34,
          "metadata": {},
          "output_type": "execute_result"
        }
      ],
      "source": [
        "df.head()"
      ]
    },
    {
      "cell_type": "markdown",
      "metadata": {
        "id": "TkpfSETa6ha-"
      },
      "source": [
        "**Here's a brief overview of the features extracted and their relevance:**\n",
        "\n",
        "**Tempo:** The speed at which a piece of music is played. It's crucial for music analysis and can be important for understanding rhythm in speech.\n",
        "\n",
        "**y (Audio Signal):** The raw audio data. It's the foundation from which all other features are derived.\n",
        "\n",
        "**sr (Sample Rate):** The number of samples of audio carried per second. It's fundamental to digital audio processing.\n",
        "\n",
        "**Onset_env (Onset Envelope):** Represents the times at which notes, chords, or percussive sounds start. It's useful in rhythm and beat detection.\n",
        "\n",
        "**Spectral Centroid:** Indicates where the \"center of mass\" for a sound is located on the frequency spectrum and is often associated with the brightness of the sound.\n",
        "\n",
        "**Spectral Bandwidth:** Relates to the width of the spectral centroid's spread. It gives an idea about the range of frequencies present in the sound.\n",
        "\n",
        "**Spectral Rolloff:** A measure of the shape of the signal. It represents the frequency below which a certain percentage of the total spectral energy is contained.\n",
        "\n",
        "**Zero Crossing Rate:** The rate at which the signal changes from positive to negative or back. This feature is often used in speech/music discrimination and for classification of percussive sounds.\n",
        "\n",
        "**Chroma STFT (Short-Time Fourier Transform):** A representation of the music’s harmonic content. It's useful in identifying chords and understanding tonal content.\n",
        "\n",
        "**MFCC (Mel-Frequency Cepstral Coefficients):** Particularly important in speech and audio signal processing for timbre recognition, as they capture the timbral aspects.\n",
        "\n",
        "**RMSE (Root Mean Square Energy):** A measure of the power of the audio signal. It's used to detect silence and compare loudness across clips."
      ]
    },
    {
      "cell_type": "code",
      "execution_count": 35,
      "metadata": {
        "colab": {
          "base_uri": "https://localhost:8080/",
          "height": 300
        },
        "id": "e6FzfiTbvczz",
        "outputId": "dea50447-1b32-44ea-c887-463f59687a9d"
      },
      "outputs": [
        {
          "data": {
            "text/html": [
              "<div>\n",
              "<style scoped>\n",
              "    .dataframe tbody tr th:only-of-type {\n",
              "        vertical-align: middle;\n",
              "    }\n",
              "\n",
              "    .dataframe tbody tr th {\n",
              "        vertical-align: top;\n",
              "    }\n",
              "\n",
              "    .dataframe thead th {\n",
              "        text-align: right;\n",
              "    }\n",
              "</style>\n",
              "<table border=\"1\" class=\"dataframe\">\n",
              "  <thead>\n",
              "    <tr style=\"text-align: right;\">\n",
              "      <th></th>\n",
              "      <th>tempo</th>\n",
              "      <th>sr</th>\n",
              "      <th>modality</th>\n",
              "      <th>vocal_channel</th>\n",
              "      <th>emotion</th>\n",
              "      <th>emotional_intensity</th>\n",
              "      <th>statement</th>\n",
              "      <th>repetition</th>\n",
              "    </tr>\n",
              "  </thead>\n",
              "  <tbody>\n",
              "    <tr>\n",
              "      <th>count</th>\n",
              "      <td>1440.000000</td>\n",
              "      <td>1440.0</td>\n",
              "      <td>1440.0</td>\n",
              "      <td>1440.0</td>\n",
              "      <td>1440.000000</td>\n",
              "      <td>1440.000000</td>\n",
              "      <td>1440.000000</td>\n",
              "      <td>1440.000000</td>\n",
              "    </tr>\n",
              "    <tr>\n",
              "      <th>mean</th>\n",
              "      <td>125.034286</td>\n",
              "      <td>22050.0</td>\n",
              "      <td>3.0</td>\n",
              "      <td>1.0</td>\n",
              "      <td>4.733333</td>\n",
              "      <td>1.466667</td>\n",
              "      <td>1.500000</td>\n",
              "      <td>1.500000</td>\n",
              "    </tr>\n",
              "    <tr>\n",
              "      <th>std</th>\n",
              "      <td>41.610986</td>\n",
              "      <td>0.0</td>\n",
              "      <td>0.0</td>\n",
              "      <td>0.0</td>\n",
              "      <td>2.175356</td>\n",
              "      <td>0.499061</td>\n",
              "      <td>0.500174</td>\n",
              "      <td>0.500174</td>\n",
              "    </tr>\n",
              "    <tr>\n",
              "      <th>min</th>\n",
              "      <td>43.796345</td>\n",
              "      <td>22050.0</td>\n",
              "      <td>3.0</td>\n",
              "      <td>1.0</td>\n",
              "      <td>1.000000</td>\n",
              "      <td>1.000000</td>\n",
              "      <td>1.000000</td>\n",
              "      <td>1.000000</td>\n",
              "    </tr>\n",
              "    <tr>\n",
              "      <th>25%</th>\n",
              "      <td>92.285156</td>\n",
              "      <td>22050.0</td>\n",
              "      <td>3.0</td>\n",
              "      <td>1.0</td>\n",
              "      <td>3.000000</td>\n",
              "      <td>1.000000</td>\n",
              "      <td>1.000000</td>\n",
              "      <td>1.000000</td>\n",
              "    </tr>\n",
              "    <tr>\n",
              "      <th>50%</th>\n",
              "      <td>123.046875</td>\n",
              "      <td>22050.0</td>\n",
              "      <td>3.0</td>\n",
              "      <td>1.0</td>\n",
              "      <td>5.000000</td>\n",
              "      <td>1.000000</td>\n",
              "      <td>1.500000</td>\n",
              "      <td>1.500000</td>\n",
              "    </tr>\n",
              "    <tr>\n",
              "      <th>75%</th>\n",
              "      <td>151.999081</td>\n",
              "      <td>22050.0</td>\n",
              "      <td>3.0</td>\n",
              "      <td>1.0</td>\n",
              "      <td>7.000000</td>\n",
              "      <td>2.000000</td>\n",
              "      <td>2.000000</td>\n",
              "      <td>2.000000</td>\n",
              "    </tr>\n",
              "    <tr>\n",
              "      <th>max</th>\n",
              "      <td>234.907670</td>\n",
              "      <td>22050.0</td>\n",
              "      <td>3.0</td>\n",
              "      <td>1.0</td>\n",
              "      <td>8.000000</td>\n",
              "      <td>2.000000</td>\n",
              "      <td>2.000000</td>\n",
              "      <td>2.000000</td>\n",
              "    </tr>\n",
              "  </tbody>\n",
              "</table>\n",
              "</div>"
            ],
            "text/plain": [
              "             tempo       sr  modality  vocal_channel      emotion  \\\n",
              "count  1440.000000   1440.0    1440.0         1440.0  1440.000000   \n",
              "mean    125.034286  22050.0       3.0            1.0     4.733333   \n",
              "std      41.610986      0.0       0.0            0.0     2.175356   \n",
              "min      43.796345  22050.0       3.0            1.0     1.000000   \n",
              "25%      92.285156  22050.0       3.0            1.0     3.000000   \n",
              "50%     123.046875  22050.0       3.0            1.0     5.000000   \n",
              "75%     151.999081  22050.0       3.0            1.0     7.000000   \n",
              "max     234.907670  22050.0       3.0            1.0     8.000000   \n",
              "\n",
              "       emotional_intensity    statement   repetition  \n",
              "count          1440.000000  1440.000000  1440.000000  \n",
              "mean              1.466667     1.500000     1.500000  \n",
              "std               0.499061     0.500174     0.500174  \n",
              "min               1.000000     1.000000     1.000000  \n",
              "25%               1.000000     1.000000     1.000000  \n",
              "50%               1.000000     1.500000     1.500000  \n",
              "75%               2.000000     2.000000     2.000000  \n",
              "max               2.000000     2.000000     2.000000  "
            ]
          },
          "execution_count": 35,
          "metadata": {},
          "output_type": "execute_result"
        }
      ],
      "source": [
        "df.describe()"
      ]
    },
    {
      "cell_type": "markdown",
      "metadata": {
        "id": "EHoqeqXxzE9q"
      },
      "source": [
        "NOTE: Since the correlation is zero, we can drop the columns"
      ]
    },
    {
      "cell_type": "code",
      "execution_count": 36,
      "metadata": {
        "colab": {
          "base_uri": "https://localhost:8080/"
        },
        "id": "WxwXnKG3wakH",
        "outputId": "94bb512f-d578-4ff1-da71-6ef8d37aa8d2"
      },
      "outputs": [
        {
          "data": {
            "text/plain": [
              "(1.7018035299991737e-18, 0.0, -4.9453264060181235e-18, -8.509017649995869e-19)"
            ]
          },
          "execution_count": 36,
          "metadata": {},
          "output_type": "execute_result"
        }
      ],
      "source": [
        "df['emotion'].corr(df['repetition']), df['emotional_intensity'].corr(df['repetition']), df['emotional_intensity'].corr(df['statement']), df['emotion'].corr(df['statement'])"
      ]
    },
    {
      "cell_type": "markdown",
      "metadata": {
        "id": "FWHbJbaIwB2O"
      },
      "source": [
        "**Facts and Observations:**\n",
        "\n",
        "Modality (01 = full-AV, 02 = video-only, 03 = audio-only)\n",
        "As we are only working with Audio Data, modality is 3 throughout.\n",
        "\n",
        "Vocal channel (01 = speech, 02 = song).\n",
        "There is no data with an actor singing, so only speech data.\n",
        "\n",
        "Emotion (01 = neutral, 02 = calm, 03 = happy, 04 = sad, 05 = angry, 06 = fearful, 07 = disgust, 08 = surprised).\n",
        "This is one of the Target Variable, Emotion Detection.\n",
        "\n",
        "Emotional intensity (01 = normal, 02 = strong). NOTE: There is no strong intensity for the 'neutral' emotion.\n",
        "This is one of the Target variable, to determine the intensity\n",
        "\n",
        "Statement (01 = \"Kids are talking by the door\", 02 = \"Dogs are sitting by the door\").\n",
        "To determine the statement by an actor is too specific to identify and isn't the goal.\n",
        "\n",
        "Repetition (01 = 1st repetition, 02 = 2nd repetition).\n",
        "Every Statement in particular Emotion and Emotional Intensity is recorded twice by an actor thus there is a repetition of the same audio that might be minimally different.\n",
        "\n",
        "Actor (01 to 24. Odd numbered actors are male, even numbered actors are female).\n",
        "\n",
        "**Actions**\n",
        "\n",
        "We'll be dropping the:\n",
        "\n",
        "actor, modality, vocal_channel, statement, repetition\n",
        "\n",
        "**Target Features:**\n",
        "\n",
        "Emotion and Emotional Intensity\n"
      ]
    },
    {
      "cell_type": "code",
      "execution_count": 37,
      "metadata": {
        "id": "MXS1kJJ0-dU7"
      },
      "outputs": [
        {
          "data": {
            "text/html": [
              "<div>\n",
              "<style scoped>\n",
              "    .dataframe tbody tr th:only-of-type {\n",
              "        vertical-align: middle;\n",
              "    }\n",
              "\n",
              "    .dataframe tbody tr th {\n",
              "        vertical-align: top;\n",
              "    }\n",
              "\n",
              "    .dataframe thead th {\n",
              "        text-align: right;\n",
              "    }\n",
              "</style>\n",
              "<table border=\"1\" class=\"dataframe\">\n",
              "  <thead>\n",
              "    <tr style=\"text-align: right;\">\n",
              "      <th></th>\n",
              "      <th>tempo</th>\n",
              "      <th>y</th>\n",
              "      <th>sr</th>\n",
              "      <th>onset_env</th>\n",
              "      <th>spectral_centroid</th>\n",
              "      <th>spectral_bandwidth</th>\n",
              "      <th>spectral_rolloff</th>\n",
              "      <th>zero_crossing_rate</th>\n",
              "      <th>chroma_stft</th>\n",
              "      <th>mfcc</th>\n",
              "      <th>rmse</th>\n",
              "      <th>emotion</th>\n",
              "      <th>emotional_intensity</th>\n",
              "    </tr>\n",
              "  </thead>\n",
              "  <tbody>\n",
              "    <tr>\n",
              "      <th>0</th>\n",
              "      <td>83.354335</td>\n",
              "      <td>[-4.1964165575336665e-05, -6.885814946144819e-...</td>\n",
              "      <td>22050</td>\n",
              "      <td>[0.0, 0.0, 0.0, 0.0, 0.0, 0.5369328260421753, ...</td>\n",
              "      <td>[[3305.681736617078, 3809.400210109509, 4254.4...</td>\n",
              "      <td>[[3300.888911293997, 3360.0111898209984, 3240....</td>\n",
              "      <td>[[7827.3193359375, 8171.8505859375, 8311.81640...</td>\n",
              "      <td>[[0.13427734375, 0.25, 0.314453125, 0.33837890...</td>\n",
              "      <td>[[0.9302664995193481, 0.9860062003135681, 0.73...</td>\n",
              "      <td>[[-883.4555053710938, -893.8783569335938, -901...</td>\n",
              "      <td>[[1.6108253475977108e-05, 1.6326030163327232e-...</td>\n",
              "      <td>1</td>\n",
              "      <td>1</td>\n",
              "    </tr>\n",
              "    <tr>\n",
              "      <th>1</th>\n",
              "      <td>71.777344</td>\n",
              "      <td>[3.963866038247943e-05, 8.013407932594419e-05,...</td>\n",
              "      <td>22050</td>\n",
              "      <td>[0.0, 0.0, 0.0, 0.2873375415802002, 0.25994974...</td>\n",
              "      <td>[[2806.2260232447206, 3550.7743308097256, 3662...</td>\n",
              "      <td>[[3211.7066378204213, 3329.503055299506, 3278....</td>\n",
              "      <td>[[7095.1904296875, 7913.4521484375, 7913.45214...</td>\n",
              "      <td>[[0.0751953125, 0.17822265625, 0.19287109375, ...</td>\n",
              "      <td>[[1.0, 1.0, 0.8694581985473633, 0.613543748855...</td>\n",
              "      <td>[[-887.3533935546875, -892.3982543945312, -898...</td>\n",
              "      <td>[[2.7592388505581766e-05, 3.107071097474545e-0...</td>\n",
              "      <td>2</td>\n",
              "      <td>1</td>\n",
              "    </tr>\n",
              "    <tr>\n",
              "      <th>2</th>\n",
              "      <td>99.384014</td>\n",
              "      <td>[0.0, 0.0, 0.0, 0.0, 0.0, 0.0, 0.0, 0.0, 0.0, ...</td>\n",
              "      <td>22050</td>\n",
              "      <td>[0.0, 0.0, 0.0, 1.2474737167358398, 0.78880399...</td>\n",
              "      <td>[[2300.024697765367, 2608.3085662666576, 3628....</td>\n",
              "      <td>[[3202.360377039719, 3266.0767073783027, 3358....</td>\n",
              "      <td>[[6804.4921875, 7084.423828125, 8021.118164062...</td>\n",
              "      <td>[[0.13623046875, 0.18994140625, 0.2802734375, ...</td>\n",
              "      <td>[[0.8779793977737427, 0.6921616196632385, 0.62...</td>\n",
              "      <td>[[-924.48291015625, -910.8308715820312, -910.0...</td>\n",
              "      <td>[[5.010519453207962e-05, 5.149727803654969e-05...</td>\n",
              "      <td>2</td>\n",
              "      <td>2</td>\n",
              "    </tr>\n",
              "    <tr>\n",
              "      <th>3</th>\n",
              "      <td>161.499023</td>\n",
              "      <td>[1.5243997040670365e-05, 1.3807131836074404e-0...</td>\n",
              "      <td>22050</td>\n",
              "      <td>[0.0, 0.0, 0.0, 0.10534670948982239, 0.0921120...</td>\n",
              "      <td>[[3286.8306944711185, 3335.675485983033, 3444....</td>\n",
              "      <td>[[3321.0458692779025, 3356.6809595639897, 3383...</td>\n",
              "      <td>[[7698.1201171875, 7870.3857421875, 7999.58496...</td>\n",
              "      <td>[[0.14453125, 0.19091796875, 0.2431640625, 0.2...</td>\n",
              "      <td>[[0.8598794937133789, 0.7624518871307373, 0.53...</td>\n",
              "      <td>[[-842.189208984375, -841.1368408203125, -840....</td>\n",
              "      <td>[[2.4441273126285523e-05, 3.232677772757597e-0...</td>\n",
              "      <td>3</td>\n",
              "      <td>1</td>\n",
              "    </tr>\n",
              "    <tr>\n",
              "      <th>4</th>\n",
              "      <td>51.679688</td>\n",
              "      <td>[8.7517146312166e-05, 0.00013253894576337188, ...</td>\n",
              "      <td>22050</td>\n",
              "      <td>[0.0, 0.0, 0.0, 0.010161399841308594, 0.034371...</td>\n",
              "      <td>[[2361.408732526411, 2765.001568121494, 2920.2...</td>\n",
              "      <td>[[3101.7483706848116, 3278.125756621847, 3288....</td>\n",
              "      <td>[[6449.1943359375, 7256.689453125, 7396.655273...</td>\n",
              "      <td>[[0.0224609375, 0.09765625, 0.248046875, 0.255...</td>\n",
              "      <td>[[0.8078288435935974, 0.40341416001319885, 0.4...</td>\n",
              "      <td>[[-658.903076171875, -659.3871459960938, -659....</td>\n",
              "      <td>[[5.8222438383381814e-05, 6.489652150776237e-0...</td>\n",
              "      <td>3</td>\n",
              "      <td>2</td>\n",
              "    </tr>\n",
              "  </tbody>\n",
              "</table>\n",
              "</div>"
            ],
            "text/plain": [
              "        tempo                                                  y     sr  \\\n",
              "0   83.354335  [-4.1964165575336665e-05, -6.885814946144819e-...  22050   \n",
              "1   71.777344  [3.963866038247943e-05, 8.013407932594419e-05,...  22050   \n",
              "2   99.384014  [0.0, 0.0, 0.0, 0.0, 0.0, 0.0, 0.0, 0.0, 0.0, ...  22050   \n",
              "3  161.499023  [1.5243997040670365e-05, 1.3807131836074404e-0...  22050   \n",
              "4   51.679688  [8.7517146312166e-05, 0.00013253894576337188, ...  22050   \n",
              "\n",
              "                                           onset_env  \\\n",
              "0  [0.0, 0.0, 0.0, 0.0, 0.0, 0.5369328260421753, ...   \n",
              "1  [0.0, 0.0, 0.0, 0.2873375415802002, 0.25994974...   \n",
              "2  [0.0, 0.0, 0.0, 1.2474737167358398, 0.78880399...   \n",
              "3  [0.0, 0.0, 0.0, 0.10534670948982239, 0.0921120...   \n",
              "4  [0.0, 0.0, 0.0, 0.010161399841308594, 0.034371...   \n",
              "\n",
              "                                   spectral_centroid  \\\n",
              "0  [[3305.681736617078, 3809.400210109509, 4254.4...   \n",
              "1  [[2806.2260232447206, 3550.7743308097256, 3662...   \n",
              "2  [[2300.024697765367, 2608.3085662666576, 3628....   \n",
              "3  [[3286.8306944711185, 3335.675485983033, 3444....   \n",
              "4  [[2361.408732526411, 2765.001568121494, 2920.2...   \n",
              "\n",
              "                                  spectral_bandwidth  \\\n",
              "0  [[3300.888911293997, 3360.0111898209984, 3240....   \n",
              "1  [[3211.7066378204213, 3329.503055299506, 3278....   \n",
              "2  [[3202.360377039719, 3266.0767073783027, 3358....   \n",
              "3  [[3321.0458692779025, 3356.6809595639897, 3383...   \n",
              "4  [[3101.7483706848116, 3278.125756621847, 3288....   \n",
              "\n",
              "                                    spectral_rolloff  \\\n",
              "0  [[7827.3193359375, 8171.8505859375, 8311.81640...   \n",
              "1  [[7095.1904296875, 7913.4521484375, 7913.45214...   \n",
              "2  [[6804.4921875, 7084.423828125, 8021.118164062...   \n",
              "3  [[7698.1201171875, 7870.3857421875, 7999.58496...   \n",
              "4  [[6449.1943359375, 7256.689453125, 7396.655273...   \n",
              "\n",
              "                                  zero_crossing_rate  \\\n",
              "0  [[0.13427734375, 0.25, 0.314453125, 0.33837890...   \n",
              "1  [[0.0751953125, 0.17822265625, 0.19287109375, ...   \n",
              "2  [[0.13623046875, 0.18994140625, 0.2802734375, ...   \n",
              "3  [[0.14453125, 0.19091796875, 0.2431640625, 0.2...   \n",
              "4  [[0.0224609375, 0.09765625, 0.248046875, 0.255...   \n",
              "\n",
              "                                         chroma_stft  \\\n",
              "0  [[0.9302664995193481, 0.9860062003135681, 0.73...   \n",
              "1  [[1.0, 1.0, 0.8694581985473633, 0.613543748855...   \n",
              "2  [[0.8779793977737427, 0.6921616196632385, 0.62...   \n",
              "3  [[0.8598794937133789, 0.7624518871307373, 0.53...   \n",
              "4  [[0.8078288435935974, 0.40341416001319885, 0.4...   \n",
              "\n",
              "                                                mfcc  \\\n",
              "0  [[-883.4555053710938, -893.8783569335938, -901...   \n",
              "1  [[-887.3533935546875, -892.3982543945312, -898...   \n",
              "2  [[-924.48291015625, -910.8308715820312, -910.0...   \n",
              "3  [[-842.189208984375, -841.1368408203125, -840....   \n",
              "4  [[-658.903076171875, -659.3871459960938, -659....   \n",
              "\n",
              "                                                rmse  emotion  \\\n",
              "0  [[1.6108253475977108e-05, 1.6326030163327232e-...        1   \n",
              "1  [[2.7592388505581766e-05, 3.107071097474545e-0...        2   \n",
              "2  [[5.010519453207962e-05, 5.149727803654969e-05...        2   \n",
              "3  [[2.4441273126285523e-05, 3.232677772757597e-0...        3   \n",
              "4  [[5.8222438383381814e-05, 6.489652150776237e-0...        3   \n",
              "\n",
              "   emotional_intensity  \n",
              "0                    1  \n",
              "1                    1  \n",
              "2                    2  \n",
              "3                    1  \n",
              "4                    2  "
            ]
          },
          "execution_count": 37,
          "metadata": {},
          "output_type": "execute_result"
        }
      ],
      "source": [
        "columns_to_drop = ['actor', 'modality', 'vocal_channel', 'statement', 'repetition']\n",
        "\n",
        "# Drop the columns\n",
        "df = df.drop(columns_to_drop, axis=1)\n",
        "\n",
        "df.head()"
      ]
    },
    {
      "cell_type": "markdown",
      "metadata": {
        "id": "6PJcRwKLPtp6"
      },
      "source": [
        "Saving the modified data"
      ]
    },
    {
      "cell_type": "code",
      "execution_count": 39,
      "metadata": {},
      "outputs": [
        {
          "data": {
            "text/plain": [
              "Index(['tempo', 'y', 'sr', 'onset_env', 'spectral_centroid',\n",
              "       'spectral_bandwidth', 'spectral_rolloff', 'zero_crossing_rate',\n",
              "       'chroma_stft', 'mfcc', 'rmse', 'emotion', 'emotional_intensity'],\n",
              "      dtype='object')"
            ]
          },
          "execution_count": 39,
          "metadata": {},
          "output_type": "execute_result"
        }
      ],
      "source": [
        "df.columns"
      ]
    },
    {
      "cell_type": "code",
      "execution_count": 40,
      "metadata": {
        "id": "gDX-SSt4OrgC"
      },
      "outputs": [],
      "source": [
        "output_csv_file = './actors_labeled_df.csv'\n",
        "\n",
        "# Save the DataFrame having no-list features as a CSV file for a fixed-length model\n",
        "df = df.loc[:, ['tempo', 'sr', 'emotion', 'emotional_intensity']]\n",
        "\n",
        "df.to_csv(output_csv_file, index=False)"
      ]
    },
    {
      "cell_type": "markdown",
      "metadata": {
        "id": "4vWWUBrTfOP2"
      },
      "source": [
        "Loading the modified file"
      ]
    },
    {
      "cell_type": "code",
      "execution_count": 41,
      "metadata": {
        "id": "no_alodVfLLj"
      },
      "outputs": [],
      "source": [
        "import pandas as pd\n",
        "\n",
        "explore_data = './actors_labeled_df.csv'\n",
        "\n",
        "# Save the DataFrame as a CSV file\n",
        "data_visuals = pd.read_csv(explore_data) # variable initiated for visulization purposes\n",
        "df = pd.read_csv(explore_data)"
      ]
    },
    {
      "cell_type": "code",
      "execution_count": 43,
      "metadata": {
        "colab": {
          "base_uri": "https://localhost:8080/"
        },
        "id": "KUoDwZpDP0Ze",
        "outputId": "3422b261-f583-4276-863d-b37db98cd492"
      },
      "outputs": [
        {
          "data": {
            "text/plain": [
              "(1440, 4)"
            ]
          },
          "execution_count": 43,
          "metadata": {},
          "output_type": "execute_result"
        }
      ],
      "source": [
        "data_visuals.shape"
      ]
    },
    {
      "cell_type": "code",
      "execution_count": 44,
      "metadata": {
        "colab": {
          "base_uri": "https://localhost:8080/",
          "height": 1000
        },
        "id": "x3qZPpjRP0-6",
        "outputId": "322a35e8-bece-4f35-8114-3b43a0d93f4f"
      },
      "outputs": [
        {
          "data": {
            "image/png": "[encoded data removed]",
            "text/plain": [
              "<Figure size 1200x600 with 1 Axes>"
            ]
          },
          "metadata": {},
          "output_type": "display_data"
        },
        {
          "data": {
            "image/png": "[encoded data removed]",
            "text/plain": [
              "<Figure size 1200x600 with 1 Axes>"
            ]
          },
          "metadata": {},
          "output_type": "display_data"
        }
      ],
      "source": [
        "from ctypes import DEFAULT_MODE\n",
        "# For Better Visualizations mapping the data\n",
        "# Mapping for 'emotion' and 'emotional_intensity'\n",
        "emotion_mapping = {\n",
        "    1: 'neutral', 2: 'calm', 3: 'happy', 4: 'sad',\n",
        "    5: 'angry', 6: 'fearful', 7: 'disgust', 8: 'surprised'\n",
        "}\n",
        "emotional_intensity_mapping = {1: 'normal', 2: 'strong'}\n",
        "\n",
        "# Updating the dataset with these mappings\n",
        "data_visuals['emotion'] = df['emotion'].map(emotion_mapping)\n",
        "data_visuals['emotional_intensity'] = df['emotional_intensity'].map(emotional_intensity_mapping)\n",
        "\n",
        "import matplotlib.pyplot as plt\n",
        "import seaborn as sns\n",
        "\n",
        "# Re-setting the aesthetics for the plots\n",
        "sns.set(style=\"whitegrid\")\n",
        "\n",
        "# Distribution of the 'emotion' variable\n",
        "plt.figure(figsize=(12, 6))\n",
        "sns.countplot(x='emotion', data=data_visuals)\n",
        "plt.title('Distribution of Emotions')\n",
        "plt.xlabel('Emotion')\n",
        "plt.ylabel('Count')\n",
        "plt.show()\n",
        "\n",
        "# Distribution of the 'emotional_intensity' variable\n",
        "plt.figure(figsize=(12, 6))\n",
        "sns.countplot(x='emotional_intensity', data=data_visuals)\n",
        "plt.title('Distribution of Emotional Intensity')\n",
        "plt.xlabel('Emotional Intensity')\n",
        "plt.ylabel('Count')\n",
        "plt.show()"
      ]
    },
    {
      "cell_type": "markdown",
      "metadata": {
        "id": "t2uaw63KE5_t"
      },
      "source": [
        "### **Emotions:**\n",
        "\n",
        "01 = neutral\n",
        "\n",
        "02 = calm\n",
        "\n",
        "03 = happy\n",
        "\n",
        "04 = sad\n",
        "\n",
        "05 = angry\n",
        "\n",
        "06 = fearful\n",
        "\n",
        "07 = disgust\n",
        "\n",
        "08 = surprised\n",
        "\n",
        "### **Emotional Intensity:**\n",
        "\n",
        "01 = normal\n",
        "\n",
        "02 = strong"
      ]
    },
    {
      "cell_type": "code",
      "execution_count": 45,
      "metadata": {
        "colab": {
          "base_uri": "https://localhost:8080/"
        },
        "id": "BCi2z0p1I2dx",
        "outputId": "8cada5aa-5c06-4e54-b744-e14efeb5bb97"
      },
      "outputs": [
        {
          "name": "stdout",
          "output_type": "stream",
          "text": [
            "<class 'pandas.core.frame.DataFrame'>\n",
            "RangeIndex: 1440 entries, 0 to 1439\n",
            "Data columns (total 4 columns):\n",
            " #   Column               Non-Null Count  Dtype  \n",
            "---  ------               --------------  -----  \n",
            " 0   tempo                1440 non-null   float64\n",
            " 1   sr                   1440 non-null   int64  \n",
            " 2   emotion              1440 non-null   int64  \n",
            " 3   emotional_intensity  1440 non-null   int64  \n",
            "dtypes: float64(1), int64(3)\n",
            "memory usage: 45.1 KB\n"
          ]
        }
      ],
      "source": [
        "df.info()"
      ]
    },
    {
      "cell_type": "code",
      "execution_count": 46,
      "metadata": {
        "colab": {
          "base_uri": "https://localhost:8080/",
          "height": 1000
        },
        "id": "etKfyTQMP1B3",
        "outputId": "24a87967-17a6-4c44-c06b-bc88133b88a9"
      },
      "outputs": [
        {
          "data": {
            "image/png": "[encoded data removed]",
            "text/plain": [
              "<Figure size 1400x700 with 1 Axes>"
            ]
          },
          "metadata": {},
          "output_type": "display_data"
        },
        {
          "data": {
            "image/png": "[encoded data removed]",
            "text/plain": [
              "<Figure size 1200x600 with 1 Axes>"
            ]
          },
          "metadata": {},
          "output_type": "display_data"
        }
      ],
      "source": [
        "# Plotting the distribution of 'tempo' across different emotions\n",
        "plt.figure(figsize=(14, 7))\n",
        "sns.boxplot(x='emotion', y='tempo', data=data_visuals)\n",
        "plt.title('Distribution of Tempo Across Different Emotions')\n",
        "plt.xlabel('Emotion')\n",
        "plt.ylabel('Tempo')\n",
        "plt.xticks(rotation=45)\n",
        "plt.show()\n",
        "\n",
        "# Plotting the distribution of 'tempo' across different emotional intensities\n",
        "plt.figure(figsize=(12, 6))\n",
        "sns.boxplot(x='emotional_intensity', y='tempo', data=data_visuals)\n",
        "plt.title('Distribution of Tempo Across Different Emotional Intensities')\n",
        "plt.xlabel('Emotional Intensity')\n",
        "plt.ylabel('Tempo')\n",
        "plt.show()"
      ]
    },
    {
      "cell_type": "code",
      "execution_count": 47,
      "metadata": {
        "colab": {
          "base_uri": "https://localhost:8080/"
        },
        "id": "neUsUsIWP1E7",
        "outputId": "783f66b1-9013-47ca-9292-2633c21ebd2e"
      },
      "outputs": [
        {
          "data": {
            "text/plain": [
              "0.11470786693528079"
            ]
          },
          "execution_count": 47,
          "metadata": {},
          "output_type": "execute_result"
        }
      ],
      "source": [
        "#Calculating the corelation between the Target Variables\n",
        "Target_corelation = df['emotion'].corr(df['emotional_intensity'])\n",
        "\n",
        "Target_corelation"
      ]
    },
    {
      "cell_type": "markdown",
      "metadata": {
        "id": "_o18UrIrZkzd"
      },
      "source": [
        "### **Observation:**\n",
        "\n",
        "As there is little positive corelation between the target variables, we will be making two seperate models for classification of 'emotion' and 'emotional intensity'"
      ]
    },
    {
      "cell_type": "code",
      "execution_count": 48,
      "metadata": {
        "colab": {
          "base_uri": "https://localhost:8080/",
          "height": 449
        },
        "id": "UsMdnw0OMSII",
        "outputId": "0da7d4d1-2235-4290-864e-c1029e821ff0"
      },
      "outputs": [
        {
          "data": {
            "text/html": [
              "<div>\n",
              "<style scoped>\n",
              "    .dataframe tbody tr th:only-of-type {\n",
              "        vertical-align: middle;\n",
              "    }\n",
              "\n",
              "    .dataframe tbody tr th {\n",
              "        vertical-align: top;\n",
              "    }\n",
              "\n",
              "    .dataframe thead th {\n",
              "        text-align: right;\n",
              "    }\n",
              "</style>\n",
              "<table border=\"1\" class=\"dataframe\">\n",
              "  <thead>\n",
              "    <tr style=\"text-align: right;\">\n",
              "      <th></th>\n",
              "      <th>tempo</th>\n",
              "      <th>sr</th>\n",
              "      <th>emotion</th>\n",
              "      <th>emotional_intensity</th>\n",
              "    </tr>\n",
              "  </thead>\n",
              "  <tbody>\n",
              "    <tr>\n",
              "      <th>0</th>\n",
              "      <td>83.354335</td>\n",
              "      <td>22050</td>\n",
              "      <td>1</td>\n",
              "      <td>1</td>\n",
              "    </tr>\n",
              "    <tr>\n",
              "      <th>1</th>\n",
              "      <td>71.777344</td>\n",
              "      <td>22050</td>\n",
              "      <td>2</td>\n",
              "      <td>1</td>\n",
              "    </tr>\n",
              "    <tr>\n",
              "      <th>2</th>\n",
              "      <td>99.384014</td>\n",
              "      <td>22050</td>\n",
              "      <td>2</td>\n",
              "      <td>2</td>\n",
              "    </tr>\n",
              "    <tr>\n",
              "      <th>3</th>\n",
              "      <td>161.499023</td>\n",
              "      <td>22050</td>\n",
              "      <td>3</td>\n",
              "      <td>1</td>\n",
              "    </tr>\n",
              "    <tr>\n",
              "      <th>4</th>\n",
              "      <td>51.679688</td>\n",
              "      <td>22050</td>\n",
              "      <td>3</td>\n",
              "      <td>2</td>\n",
              "    </tr>\n",
              "  </tbody>\n",
              "</table>\n",
              "</div>"
            ],
            "text/plain": [
              "        tempo     sr  emotion  emotional_intensity\n",
              "0   83.354335  22050        1                    1\n",
              "1   71.777344  22050        2                    1\n",
              "2   99.384014  22050        2                    2\n",
              "3  161.499023  22050        3                    1\n",
              "4   51.679688  22050        3                    2"
            ]
          },
          "execution_count": 48,
          "metadata": {},
          "output_type": "execute_result"
        }
      ],
      "source": [
        "df.head()"
      ]
    },
    {
      "cell_type": "markdown",
      "metadata": {
        "id": "40H4jKWuBMTW"
      },
      "source": [
        "Also, as all the features are derived using y(the encoded original audio and sampaling rate (constant for all audios), its better to drop them because they can't be used for modeling directly and to take care of the curse of colinearity)"
      ]
    },
    {
      "cell_type": "code",
      "execution_count": 9,
      "metadata": {
        "colab": {
          "base_uri": "https://localhost:8080/"
        },
        "id": "feXajIlfApzb",
        "outputId": "467643d2-94e3-4b62-e7a3-6f5c9b396819"
      },
      "outputs": [
        {
          "data": {
            "text/plain": [
              "array([1, 2, 3, 4, 5, 6, 7, 8])"
            ]
          },
          "execution_count": 9,
          "metadata": {},
          "output_type": "execute_result"
        }
      ],
      "source": [
        "df.emotion.unique()"
      ]
    },
    {
      "cell_type": "markdown",
      "metadata": {
        "id": "M4Ql1P6KCE_Y"
      },
      "source": [
        "As we know that the numbers represent a particular emotion and thus are categorical, so they need to be encoded using one hot encoding to remove the ordinality trait"
      ]
    },
    {
      "cell_type": "markdown",
      "metadata": {
        "id": "L3kXV_-cKII7"
      },
      "source": [
        "For emotional Intensity encoding Normal as 0 from 1 and Strong 1 from 2, for standard encoding in binary classification and in case we might need the use neural nets in future"
      ]
    },
    {
      "cell_type": "markdown",
      "metadata": {
        "id": "urzN8F2zLSGA"
      },
      "source": [
        "Let's move on to the Modification Phase :)"
      ]
    }
  ],
  "metadata": {
    "colab": {
      "provenance": []
    },
    "kernelspec": {
      "display_name": "Python 3",
      "name": "python3"
    },
    "language_info": {
      "codemirror_mode": {
        "name": "ipython",
        "version": 3
      },
      "file_extension": ".py",
      "mimetype": "text/x-python",
      "name": "python",
      "nbconvert_exporter": "python",
      "pygments_lexer": "ipython3",
      "version": "3.8.15"
    }
  },
  "nbformat": 4,
  "nbformat_minor": 0
}
