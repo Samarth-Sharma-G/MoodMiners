{
  "cells": [
    {
      "cell_type": "markdown",
      "metadata": {},
      "source": [
        "# Modify"
      ]
    },
    {
      "cell_type": "code",
      "execution_count": 1,
      "metadata": {},
      "outputs": [],
      "source": [
        "import numpy as np\n",
        "import os\n",
        "import json\n",
        "import librosa\n",
        "import pandas as pd\n",
        "import zipfile\n",
        "import shutil"
      ]
    },
    {
      "cell_type": "markdown",
      "metadata": {
        "id": "9QDcHK7cMUdP"
      },
      "source": [
        "## Extracting the statistical summary and target features\n",
        "This data is loaded from the Explore stage, so running the previous stage's notebooks is necessary."
      ]
    },
    {
      "cell_type": "markdown",
      "metadata": {
        "id": "smhOGgKvSpz4"
      },
      "source": [
        "### Importing the Dataset"
      ]
    },
    {
      "cell_type": "code",
      "execution_count": 2,
      "metadata": {
        "id": "siJFfL6jy1CF"
      },
      "outputs": [],
      "source": [
        "File = '../01_Sample/actors_meta_df.csv'\n",
        "\n",
        "# Save the DataFrame as a CSV file\n",
        "data = pd.read_csv(File)\n",
        "# testing that the shards are converted to the correct format (json string)\n",
        "# convert the json stringa back to a list of lists for the list of list features using json.loads\n",
        "data['spectral_centroid'] = data['spectral_centroid'].apply(lambda x: json.loads(x))\n",
        "data['spectral_bandwidth'] = data['spectral_bandwidth'].apply(lambda x: json.loads(x))\n",
        "data['spectral_rolloff'] = data['spectral_rolloff'].apply(lambda x: json.loads(x))\n",
        "data['zero_crossing_rate'] = data['zero_crossing_rate'].apply(lambda x: json.loads(x))\n",
        "data['chroma_stft'] = data['chroma_stft'].apply(lambda x: json.loads(x))\n",
        "data['mfcc'] = data['mfcc'].apply(lambda x: json.loads(x))\n",
        "data['rmse'] = data['rmse'].apply(lambda x: json.loads(x))\n",
        "data['onset_env'] = data['onset_env'].apply(lambda x: json.loads(x))\n",
        "data['y'] = data['y'].apply(lambda x: json.loads(x))"
      ]
    },
    {
      "cell_type": "code",
      "execution_count": 3,
      "metadata": {},
      "outputs": [],
      "source": [
        "# create new columns [_mean, _std, _min, _max, _median] for each list feature ['spectral_centroid', 'spectral_bandwidth', 'spectral_rolloff', 'zero_crossing_rate', 'chroma_stft', 'mfcc', 'rmse', 'onset_env', 'y']\n",
        "for feature in ['spectral_centroid', 'spectral_bandwidth', 'spectral_rolloff', 'zero_crossing_rate', 'chroma_stft', 'mfcc', 'rmse', 'onset_env']:\n",
        "    data[feature+'_mean'] = data[feature].apply(lambda x: np.mean(x))\n",
        "    data[feature+'_std'] = data[feature].apply(lambda x: np.std(x))\n",
        "    data[feature+'_min'] = data[feature].apply(lambda x: np.min(x))\n",
        "    data[feature+'_max'] = data[feature].apply(lambda x: np.max(x))\n",
        "    data[feature+'_median'] = data[feature].apply(lambda x: np.median(x))"
      ]
    },
    {
      "cell_type": "code",
      "execution_count": 5,
      "metadata": {
        "colab": {
          "base_uri": "https://localhost:8080/",
          "height": 256
        },
        "id": "hcXCWXdxTk6V",
        "outputId": "cd31fc87-12d2-401f-bf93-8319a9c45591"
      },
      "outputs": [],
      "source": [
        "# selecting only the new columns [_mean, _std, _min, _max, _median] for each list feature ['spectral_centroid', 'spectral_bandwidth', 'spectral_rolloff', 'zero_crossing_rate', 'chroma_stft', 'mfcc', 'rmse', 'onset_env', 'y'\n",
        "# as well as the emotion, emotional_intensity, and tempo\n",
        "data = data.loc[:, ['emotion', 'emotional_intensity', 'tempo', 'spectral_centroid_mean', 'spectral_centroid_std', 'spectral_centroid_min', 'spectral_centroid_max', 'spectral_centroid_median', 'spectral_bandwidth_mean', 'spectral_bandwidth_std', 'spectral_bandwidth_min', 'spectral_bandwidth_max', 'spectral_bandwidth_median', 'spectral_rolloff_mean', 'spectral_rolloff_std', 'spectral_rolloff_min', 'spectral_rolloff_max', 'spectral_rolloff_median', 'zero_crossing_rate_mean', 'zero_crossing_rate_std', 'zero_crossing_rate_min', 'zero_crossing_rate_max', 'zero_crossing_rate_median', 'chroma_stft_mean', 'chroma_stft_std', 'chroma_stft_min', 'chroma_stft_max', 'chroma_stft_median', 'mfcc_mean', 'mfcc_std', 'mfcc_min', 'mfcc_max', 'mfcc_median', 'rmse_mean', 'rmse_std', 'rmse_min', 'rmse_max', 'rmse_median', 'onset_env_mean', 'onset_env_std', 'onset_env_min', 'onset_env_max', 'onset_env_median']]\n",
        "data.to_csv('../03_Modify/actors_meta_data_selected.csv', index=False)"
      ]
    },
    {
      "cell_type": "code",
      "execution_count": 6,
      "metadata": {
        "colab": {
          "base_uri": "https://localhost:8080/"
        },
        "id": "w80W4Zsly1Oi",
        "outputId": "460ec5c5-72d9-4b95-8705-9c6375285a3f"
      },
      "outputs": [
        {
          "data": {
            "text/plain": [
              "(1440, 43)"
            ]
          },
          "execution_count": 6,
          "metadata": {},
          "output_type": "execute_result"
        }
      ],
      "source": [
        "data.shape"
      ]
    },
    {
      "cell_type": "code",
      "execution_count": 7,
      "metadata": {
        "id": "hZnEd0hfy1R_"
      },
      "outputs": [],
      "source": [
        "# # Map the Emotion Labels\n",
        "# emotion_mapp?ing = {\n",
        "#     1: 'neutral',\n",
        "#     2: 'calm',\n",
        "#     3: 'happy',\n",
        "#     4: 'sad',\n",
        "#     5: 'angry',\n",
        "#     6: 'fearful',\n",
        "#     7: 'disgust',\n",
        "#     8: 'surprised'\n",
        "# }\n",
        "# data['emotion'] = data['emotion'].map(emotion_mapping)\n",
        "\n",
        "# Map the Emotional Intensity Label\n",
        "intensity_mapping = {1: 0, 2: 1}\n",
        "data['emotional_intensity'] = data['emotional_intensity'].map(intensity_mapping)"
      ]
    },
    {
      "cell_type": "code",
      "execution_count": 8,
      "metadata": {
        "colab": {
          "base_uri": "https://localhost:8080/"
        },
        "id": "iGTo3jYIXHha",
        "outputId": "37210d40-1ede-40ff-a3b3-91f4feaa5a96"
      },
      "outputs": [
        {
          "data": {
            "text/plain": [
              "array([1, 2, 3, 4, 7, 6, 5, 8])"
            ]
          },
          "execution_count": 8,
          "metadata": {},
          "output_type": "execute_result"
        }
      ],
      "source": [
        "data.emotion.unique()"
      ]
    },
    {
      "cell_type": "markdown",
      "metadata": {
        "id": "l--v1iN7qp4u"
      },
      "source": [
        "## No One hot encoding"
      ]
    },
    {
      "cell_type": "code",
      "execution_count": 9,
      "metadata": {
        "id": "kEM9Tb7EevoA"
      },
      "outputs": [],
      "source": [
        "# # One-Hot Encoding for Emotion Labels\n",
        "# emotion_one_hot = pd.get_dummies(data['emotion'], prefix='emotion')\n",
        "# data = pd.concat([data, emotion_one_hot], axis=1)\n",
        "# data.drop('emotion', axis=1, inplace=True)  # Drop original emotion column"
      ]
    },
    {
      "cell_type": "code",
      "execution_count": 10,
      "metadata": {
        "colab": {
          "base_uri": "https://localhost:8080/",
          "height": 256
        },
        "id": "Qe6-k_Ugevq1",
        "outputId": "551fe0a6-2257-45c0-d573-f422d8864860"
      },
      "outputs": [
        {
          "data": {
            "text/html": [
              "<div>\n",
              "<style scoped>\n",
              "    .dataframe tbody tr th:only-of-type {\n",
              "        vertical-align: middle;\n",
              "    }\n",
              "\n",
              "    .dataframe tbody tr th {\n",
              "        vertical-align: top;\n",
              "    }\n",
              "\n",
              "    .dataframe thead th {\n",
              "        text-align: right;\n",
              "    }\n",
              "</style>\n",
              "<table border=\"1\" class=\"dataframe\">\n",
              "  <thead>\n",
              "    <tr style=\"text-align: right;\">\n",
              "      <th></th>\n",
              "      <th>emotion</th>\n",
              "      <th>emotional_intensity</th>\n",
              "      <th>tempo</th>\n",
              "      <th>spectral_centroid_mean</th>\n",
              "      <th>spectral_centroid_std</th>\n",
              "      <th>spectral_centroid_min</th>\n",
              "      <th>spectral_centroid_max</th>\n",
              "      <th>spectral_centroid_median</th>\n",
              "      <th>spectral_bandwidth_mean</th>\n",
              "      <th>spectral_bandwidth_std</th>\n",
              "      <th>...</th>\n",
              "      <th>rmse_mean</th>\n",
              "      <th>rmse_std</th>\n",
              "      <th>rmse_min</th>\n",
              "      <th>rmse_max</th>\n",
              "      <th>rmse_median</th>\n",
              "      <th>onset_env_mean</th>\n",
              "      <th>onset_env_std</th>\n",
              "      <th>onset_env_min</th>\n",
              "      <th>onset_env_max</th>\n",
              "      <th>onset_env_median</th>\n",
              "    </tr>\n",
              "  </thead>\n",
              "  <tbody>\n",
              "    <tr>\n",
              "      <th>0</th>\n",
              "      <td>1</td>\n",
              "      <td>0</td>\n",
              "      <td>83.354335</td>\n",
              "      <td>2377.962420</td>\n",
              "      <td>1349.696708</td>\n",
              "      <td>539.810952</td>\n",
              "      <td>6476.505326</td>\n",
              "      <td>1927.128621</td>\n",
              "      <td>2665.995141</td>\n",
              "      <td>600.401532</td>\n",
              "      <td>...</td>\n",
              "      <td>0.002277</td>\n",
              "      <td>0.002771</td>\n",
              "      <td>0.000016</td>\n",
              "      <td>0.007836</td>\n",
              "      <td>0.000276</td>\n",
              "      <td>1.358920</td>\n",
              "      <td>2.255390</td>\n",
              "      <td>0.0</td>\n",
              "      <td>18.253141</td>\n",
              "      <td>0.551198</td>\n",
              "    </tr>\n",
              "    <tr>\n",
              "      <th>1</th>\n",
              "      <td>2</td>\n",
              "      <td>0</td>\n",
              "      <td>71.777344</td>\n",
              "      <td>2705.783918</td>\n",
              "      <td>1353.174430</td>\n",
              "      <td>597.545069</td>\n",
              "      <td>6158.188200</td>\n",
              "      <td>2728.423850</td>\n",
              "      <td>2681.489089</td>\n",
              "      <td>642.217949</td>\n",
              "      <td>...</td>\n",
              "      <td>0.001943</td>\n",
              "      <td>0.002575</td>\n",
              "      <td>0.000009</td>\n",
              "      <td>0.010400</td>\n",
              "      <td>0.000146</td>\n",
              "      <td>1.365531</td>\n",
              "      <td>2.406745</td>\n",
              "      <td>0.0</td>\n",
              "      <td>20.316032</td>\n",
              "      <td>0.644791</td>\n",
              "    </tr>\n",
              "    <tr>\n",
              "      <th>2</th>\n",
              "      <td>2</td>\n",
              "      <td>1</td>\n",
              "      <td>99.384014</td>\n",
              "      <td>2597.143004</td>\n",
              "      <td>1413.818860</td>\n",
              "      <td>622.974845</td>\n",
              "      <td>7729.980170</td>\n",
              "      <td>2453.817550</td>\n",
              "      <td>2679.064326</td>\n",
              "      <td>569.657279</td>\n",
              "      <td>...</td>\n",
              "      <td>0.001035</td>\n",
              "      <td>0.001184</td>\n",
              "      <td>0.000014</td>\n",
              "      <td>0.004912</td>\n",
              "      <td>0.000432</td>\n",
              "      <td>1.449689</td>\n",
              "      <td>2.158890</td>\n",
              "      <td>0.0</td>\n",
              "      <td>15.330427</td>\n",
              "      <td>0.797497</td>\n",
              "    </tr>\n",
              "    <tr>\n",
              "      <th>3</th>\n",
              "      <td>3</td>\n",
              "      <td>0</td>\n",
              "      <td>161.499023</td>\n",
              "      <td>2510.694239</td>\n",
              "      <td>1168.110694</td>\n",
              "      <td>678.216364</td>\n",
              "      <td>5654.569378</td>\n",
              "      <td>2449.624920</td>\n",
              "      <td>2721.913688</td>\n",
              "      <td>691.472495</td>\n",
              "      <td>...</td>\n",
              "      <td>0.003573</td>\n",
              "      <td>0.004790</td>\n",
              "      <td>0.000024</td>\n",
              "      <td>0.017239</td>\n",
              "      <td>0.000115</td>\n",
              "      <td>1.187693</td>\n",
              "      <td>2.341018</td>\n",
              "      <td>0.0</td>\n",
              "      <td>17.443775</td>\n",
              "      <td>0.260358</td>\n",
              "    </tr>\n",
              "    <tr>\n",
              "      <th>4</th>\n",
              "      <td>3</td>\n",
              "      <td>1</td>\n",
              "      <td>51.679688</td>\n",
              "      <td>2496.662203</td>\n",
              "      <td>1228.672133</td>\n",
              "      <td>740.978888</td>\n",
              "      <td>7111.164914</td>\n",
              "      <td>2452.070635</td>\n",
              "      <td>2662.152183</td>\n",
              "      <td>671.015419</td>\n",
              "      <td>...</td>\n",
              "      <td>0.013955</td>\n",
              "      <td>0.021002</td>\n",
              "      <td>0.000019</td>\n",
              "      <td>0.095639</td>\n",
              "      <td>0.000175</td>\n",
              "      <td>1.121399</td>\n",
              "      <td>2.397961</td>\n",
              "      <td>0.0</td>\n",
              "      <td>20.576365</td>\n",
              "      <td>0.109023</td>\n",
              "    </tr>\n",
              "  </tbody>\n",
              "</table>\n",
              "<p>5 rows × 43 columns</p>\n",
              "</div>"
            ],
            "text/plain": [
              "   emotion  emotional_intensity       tempo  spectral_centroid_mean  \\\n",
              "0        1                    0   83.354335             2377.962420   \n",
              "1        2                    0   71.777344             2705.783918   \n",
              "2        2                    1   99.384014             2597.143004   \n",
              "3        3                    0  161.499023             2510.694239   \n",
              "4        3                    1   51.679688             2496.662203   \n",
              "\n",
              "   spectral_centroid_std  spectral_centroid_min  spectral_centroid_max  \\\n",
              "0            1349.696708             539.810952            6476.505326   \n",
              "1            1353.174430             597.545069            6158.188200   \n",
              "2            1413.818860             622.974845            7729.980170   \n",
              "3            1168.110694             678.216364            5654.569378   \n",
              "4            1228.672133             740.978888            7111.164914   \n",
              "\n",
              "   spectral_centroid_median  spectral_bandwidth_mean  spectral_bandwidth_std  \\\n",
              "0               1927.128621              2665.995141              600.401532   \n",
              "1               2728.423850              2681.489089              642.217949   \n",
              "2               2453.817550              2679.064326              569.657279   \n",
              "3               2449.624920              2721.913688              691.472495   \n",
              "4               2452.070635              2662.152183              671.015419   \n",
              "\n",
              "   ...  rmse_mean  rmse_std  rmse_min  rmse_max  rmse_median  onset_env_mean  \\\n",
              "0  ...   0.002277  0.002771  0.000016  0.007836     0.000276        1.358920   \n",
              "1  ...   0.001943  0.002575  0.000009  0.010400     0.000146        1.365531   \n",
              "2  ...   0.001035  0.001184  0.000014  0.004912     0.000432        1.449689   \n",
              "3  ...   0.003573  0.004790  0.000024  0.017239     0.000115        1.187693   \n",
              "4  ...   0.013955  0.021002  0.000019  0.095639     0.000175        1.121399   \n",
              "\n",
              "   onset_env_std  onset_env_min  onset_env_max  onset_env_median  \n",
              "0       2.255390            0.0      18.253141          0.551198  \n",
              "1       2.406745            0.0      20.316032          0.644791  \n",
              "2       2.158890            0.0      15.330427          0.797497  \n",
              "3       2.341018            0.0      17.443775          0.260358  \n",
              "4       2.397961            0.0      20.576365          0.109023  \n",
              "\n",
              "[5 rows x 43 columns]"
            ]
          },
          "execution_count": 10,
          "metadata": {},
          "output_type": "execute_result"
        }
      ],
      "source": [
        "data.head()"
      ]
    },
    {
      "cell_type": "code",
      "execution_count": 11,
      "metadata": {
        "colab": {
          "base_uri": "https://localhost:8080/"
        },
        "id": "5W3UshjHx4hG",
        "outputId": "06151d19-413b-4709-e375-6b9f90b9d76a"
      },
      "outputs": [
        {
          "data": {
            "text/plain": [
              "0       1\n",
              "1       2\n",
              "2       2\n",
              "3       3\n",
              "4       3\n",
              "       ..\n",
              "1435    1\n",
              "1436    2\n",
              "1437    2\n",
              "1438    3\n",
              "1439    3\n",
              "Name: emotion, Length: 1440, dtype: int64"
            ]
          },
          "execution_count": 11,
          "metadata": {},
          "output_type": "execute_result"
        }
      ],
      "source": [
        "data['emotion']"
      ]
    },
    {
      "cell_type": "markdown",
      "metadata": {
        "id": "z5BJerr5msVS"
      },
      "source": [
        "## **Normalizing**"
      ]
    },
    {
      "cell_type": "code",
      "execution_count": 12,
      "metadata": {
        "id": "i9iNBER8mpz0"
      },
      "outputs": [],
      "source": [
        "# columns = data.columns.values.tolist()\n",
        "# for column in ['emotion_neutral', 'emotion_calm', 'emotion_happy', 'emotion_sad', 'emotion_angry', 'emotion_disgust', 'emotion_surprised', 'emotion_fearful', 'emotional_intensity']:\n",
        "#   columns.remove(column)\n",
        "# len(columns)"
      ]
    },
    {
      "cell_type": "code",
      "execution_count": 13,
      "metadata": {
        "id": "K-CgGjCUmpwB"
      },
      "outputs": [],
      "source": [
        "columns = data.columns.values.tolist()\n",
        "columns.remove('emotion')\n",
        "columns.remove('emotional_intensity')\n",
        "\n",
        "from sklearn.preprocessing import StandardScaler\n",
        "\n",
        "scaler = StandardScaler()\n",
        "\n",
        "data[columns] = scaler.fit_transform(data[columns])"
      ]
    },
    {
      "cell_type": "code",
      "execution_count": 14,
      "metadata": {
        "colab": {
          "base_uri": "https://localhost:8080/",
          "height": 256
        },
        "id": "I0KgGF8Jmp3m",
        "outputId": "c582aff4-3874-4b10-ec8a-86f7935cbd7b"
      },
      "outputs": [
        {
          "data": {
            "text/html": [
              "<div>\n",
              "<style scoped>\n",
              "    .dataframe tbody tr th:only-of-type {\n",
              "        vertical-align: middle;\n",
              "    }\n",
              "\n",
              "    .dataframe tbody tr th {\n",
              "        vertical-align: top;\n",
              "    }\n",
              "\n",
              "    .dataframe thead th {\n",
              "        text-align: right;\n",
              "    }\n",
              "</style>\n",
              "<table border=\"1\" class=\"dataframe\">\n",
              "  <thead>\n",
              "    <tr style=\"text-align: right;\">\n",
              "      <th></th>\n",
              "      <th>emotion</th>\n",
              "      <th>emotional_intensity</th>\n",
              "      <th>tempo</th>\n",
              "      <th>spectral_centroid_mean</th>\n",
              "      <th>spectral_centroid_std</th>\n",
              "      <th>spectral_centroid_min</th>\n",
              "      <th>spectral_centroid_max</th>\n",
              "      <th>spectral_centroid_median</th>\n",
              "      <th>spectral_bandwidth_mean</th>\n",
              "      <th>spectral_bandwidth_std</th>\n",
              "      <th>...</th>\n",
              "      <th>rmse_mean</th>\n",
              "      <th>rmse_std</th>\n",
              "      <th>rmse_min</th>\n",
              "      <th>rmse_max</th>\n",
              "      <th>rmse_median</th>\n",
              "      <th>onset_env_mean</th>\n",
              "      <th>onset_env_std</th>\n",
              "      <th>onset_env_min</th>\n",
              "      <th>onset_env_max</th>\n",
              "      <th>onset_env_median</th>\n",
              "    </tr>\n",
              "  </thead>\n",
              "  <tbody>\n",
              "    <tr>\n",
              "      <th>0</th>\n",
              "      <td>1</td>\n",
              "      <td>0</td>\n",
              "      <td>-1.002005</td>\n",
              "      <td>-1.172356</td>\n",
              "      <td>-0.202435</td>\n",
              "      <td>0.097613</td>\n",
              "      <td>-0.223804</td>\n",
              "      <td>-1.621565</td>\n",
              "      <td>1.249141</td>\n",
              "      <td>-0.611033</td>\n",
              "      <td>...</td>\n",
              "      <td>-0.638078</td>\n",
              "      <td>-0.642855</td>\n",
              "      <td>0.210754</td>\n",
              "      <td>-0.664915</td>\n",
              "      <td>-0.389027</td>\n",
              "      <td>-0.131641</td>\n",
              "      <td>-0.550568</td>\n",
              "      <td>0.0</td>\n",
              "      <td>0.024520</td>\n",
              "      <td>0.449809</td>\n",
              "    </tr>\n",
              "    <tr>\n",
              "      <th>1</th>\n",
              "      <td>2</td>\n",
              "      <td>0</td>\n",
              "      <td>-1.280322</td>\n",
              "      <td>-0.218384</td>\n",
              "      <td>-0.189966</td>\n",
              "      <td>0.238719</td>\n",
              "      <td>-0.496479</td>\n",
              "      <td>-0.086782</td>\n",
              "      <td>1.320176</td>\n",
              "      <td>-0.392261</td>\n",
              "      <td>...</td>\n",
              "      <td>-0.663971</td>\n",
              "      <td>-0.653625</td>\n",
              "      <td>-0.034580</td>\n",
              "      <td>-0.630356</td>\n",
              "      <td>-0.430968</td>\n",
              "      <td>-0.088909</td>\n",
              "      <td>-0.089261</td>\n",
              "      <td>0.0</td>\n",
              "      <td>0.544724</td>\n",
              "      <td>0.845361</td>\n",
              "    </tr>\n",
              "    <tr>\n",
              "      <th>2</th>\n",
              "      <td>2</td>\n",
              "      <td>1</td>\n",
              "      <td>-0.616644</td>\n",
              "      <td>-0.534533</td>\n",
              "      <td>0.027479</td>\n",
              "      <td>0.300872</td>\n",
              "      <td>0.849939</td>\n",
              "      <td>-0.612757</td>\n",
              "      <td>1.309059</td>\n",
              "      <td>-0.771878</td>\n",
              "      <td>...</td>\n",
              "      <td>-0.734289</td>\n",
              "      <td>-0.729827</td>\n",
              "      <td>0.117858</td>\n",
              "      <td>-0.704313</td>\n",
              "      <td>-0.338513</td>\n",
              "      <td>0.455054</td>\n",
              "      <td>-0.844688</td>\n",
              "      <td>0.0</td>\n",
              "      <td>-0.712507</td>\n",
              "      <td>1.490745</td>\n",
              "    </tr>\n",
              "    <tr>\n",
              "      <th>3</th>\n",
              "      <td>3</td>\n",
              "      <td>0</td>\n",
              "      <td>0.876629</td>\n",
              "      <td>-0.786102</td>\n",
              "      <td>-0.853524</td>\n",
              "      <td>0.435886</td>\n",
              "      <td>-0.927885</td>\n",
              "      <td>-0.620787</td>\n",
              "      <td>1.505509</td>\n",
              "      <td>-0.134576</td>\n",
              "      <td>...</td>\n",
              "      <td>-0.537629</td>\n",
              "      <td>-0.532250</td>\n",
              "      <td>0.518485</td>\n",
              "      <td>-0.538188</td>\n",
              "      <td>-0.440894</td>\n",
              "      <td>-1.238395</td>\n",
              "      <td>-0.289588</td>\n",
              "      <td>0.0</td>\n",
              "      <td>-0.179580</td>\n",
              "      <td>-0.779366</td>\n",
              "    </tr>\n",
              "    <tr>\n",
              "      <th>4</th>\n",
              "      <td>3</td>\n",
              "      <td>1</td>\n",
              "      <td>-1.763479</td>\n",
              "      <td>-0.826936</td>\n",
              "      <td>-0.636377</td>\n",
              "      <td>0.589282</td>\n",
              "      <td>0.319854</td>\n",
              "      <td>-0.616103</td>\n",
              "      <td>1.231523</td>\n",
              "      <td>-0.241601</td>\n",
              "      <td>...</td>\n",
              "      <td>0.266780</td>\n",
              "      <td>0.355998</td>\n",
              "      <td>0.307257</td>\n",
              "      <td>0.518379</td>\n",
              "      <td>-0.421367</td>\n",
              "      <td>-1.666901</td>\n",
              "      <td>-0.116032</td>\n",
              "      <td>0.0</td>\n",
              "      <td>0.610373</td>\n",
              "      <td>-1.418954</td>\n",
              "    </tr>\n",
              "  </tbody>\n",
              "</table>\n",
              "<p>5 rows × 43 columns</p>\n",
              "</div>"
            ],
            "text/plain": [
              "   emotion  emotional_intensity     tempo  spectral_centroid_mean  \\\n",
              "0        1                    0 -1.002005               -1.172356   \n",
              "1        2                    0 -1.280322               -0.218384   \n",
              "2        2                    1 -0.616644               -0.534533   \n",
              "3        3                    0  0.876629               -0.786102   \n",
              "4        3                    1 -1.763479               -0.826936   \n",
              "\n",
              "   spectral_centroid_std  spectral_centroid_min  spectral_centroid_max  \\\n",
              "0              -0.202435               0.097613              -0.223804   \n",
              "1              -0.189966               0.238719              -0.496479   \n",
              "2               0.027479               0.300872               0.849939   \n",
              "3              -0.853524               0.435886              -0.927885   \n",
              "4              -0.636377               0.589282               0.319854   \n",
              "\n",
              "   spectral_centroid_median  spectral_bandwidth_mean  spectral_bandwidth_std  \\\n",
              "0                 -1.621565                 1.249141               -0.611033   \n",
              "1                 -0.086782                 1.320176               -0.392261   \n",
              "2                 -0.612757                 1.309059               -0.771878   \n",
              "3                 -0.620787                 1.505509               -0.134576   \n",
              "4                 -0.616103                 1.231523               -0.241601   \n",
              "\n",
              "   ...  rmse_mean  rmse_std  rmse_min  rmse_max  rmse_median  onset_env_mean  \\\n",
              "0  ...  -0.638078 -0.642855  0.210754 -0.664915    -0.389027       -0.131641   \n",
              "1  ...  -0.663971 -0.653625 -0.034580 -0.630356    -0.430968       -0.088909   \n",
              "2  ...  -0.734289 -0.729827  0.117858 -0.704313    -0.338513        0.455054   \n",
              "3  ...  -0.537629 -0.532250  0.518485 -0.538188    -0.440894       -1.238395   \n",
              "4  ...   0.266780  0.355998  0.307257  0.518379    -0.421367       -1.666901   \n",
              "\n",
              "   onset_env_std  onset_env_min  onset_env_max  onset_env_median  \n",
              "0      -0.550568            0.0       0.024520          0.449809  \n",
              "1      -0.089261            0.0       0.544724          0.845361  \n",
              "2      -0.844688            0.0      -0.712507          1.490745  \n",
              "3      -0.289588            0.0      -0.179580         -0.779366  \n",
              "4      -0.116032            0.0       0.610373         -1.418954  \n",
              "\n",
              "[5 rows x 43 columns]"
            ]
          },
          "execution_count": 14,
          "metadata": {},
          "output_type": "execute_result"
        }
      ],
      "source": [
        "data.head()"
      ]
    },
    {
      "cell_type": "code",
      "execution_count": 15,
      "metadata": {
        "id": "Gqfo9Hwnevu9"
      },
      "outputs": [],
      "source": [
        "data_emotion = data.copy()\n",
        "data_emotional_intensity = data.copy()"
      ]
    },
    {
      "cell_type": "code",
      "execution_count": 16,
      "metadata": {
        "colab": {
          "base_uri": "https://localhost:8080/"
        },
        "id": "F4h76DQSxDKZ",
        "outputId": "49494048-aeda-4cc6-e9db-0748d5ab738b"
      },
      "outputs": [
        {
          "data": {
            "text/plain": [
              "0       0\n",
              "1       0\n",
              "2       1\n",
              "3       0\n",
              "4       1\n",
              "       ..\n",
              "1435    0\n",
              "1436    0\n",
              "1437    1\n",
              "1438    0\n",
              "1439    1\n",
              "Name: emotional_intensity, Length: 1440, dtype: int64"
            ]
          },
          "execution_count": 16,
          "metadata": {},
          "output_type": "execute_result"
        }
      ],
      "source": [
        "data_emotional_intensity.emotional_intensity"
      ]
    },
    {
      "cell_type": "markdown",
      "metadata": {
        "id": "ATK71hQga4iP"
      },
      "source": [
        "## **Modifying the data for individual modeling tasks and Saving them**"
      ]
    },
    {
      "cell_type": "markdown",
      "metadata": {
        "id": "MgTOiu30QOCb"
      },
      "source": [
        "new"
      ]
    },
    {
      "cell_type": "code",
      "execution_count": 17,
      "metadata": {
        "colab": {
          "base_uri": "https://localhost:8080/"
        },
        "id": "b3OMJyz_Pz3P",
        "outputId": "2fcd33e2-9cf7-4b08-d863-5dd4b84c4bf1"
      },
      "outputs": [
        {
          "data": {
            "text/plain": [
              "(1440, 42)"
            ]
          },
          "execution_count": 17,
          "metadata": {},
          "output_type": "execute_result"
        }
      ],
      "source": [
        "columns_to_drop = ['emotion']\n",
        "\n",
        "# Drop the columns\n",
        "data_emotional_intensity = data.drop(columns_to_drop, axis=1)\n",
        "\n",
        "data_emotional_intensity.shape"
      ]
    },
    {
      "cell_type": "code",
      "execution_count": 18,
      "metadata": {
        "id": "vD126S8fPz6n"
      },
      "outputs": [],
      "source": [
        "output_csv_file = './data_emotional_intensity.csv'\n",
        "\n",
        "# Save the DataFrame as a CSV file\n",
        "data_emotional_intensity.to_csv(output_csv_file, index=False)"
      ]
    },
    {
      "cell_type": "code",
      "execution_count": 19,
      "metadata": {
        "colab": {
          "base_uri": "https://localhost:8080/"
        },
        "id": "19TleKerP0JB",
        "outputId": "9c9aba60-33fb-4d03-c543-7c2582efb15a"
      },
      "outputs": [
        {
          "data": {
            "text/plain": [
              "(1440, 42)"
            ]
          },
          "execution_count": 19,
          "metadata": {},
          "output_type": "execute_result"
        }
      ],
      "source": [
        "columns_to_drop = ['emotional_intensity']\n",
        "\n",
        "# Drop the columns\n",
        "data_emotion = data.drop(columns_to_drop, axis=1)\n",
        "\n",
        "data_emotion.shape"
      ]
    },
    {
      "cell_type": "code",
      "execution_count": 20,
      "metadata": {
        "id": "Ziy8jgq7P0Mb"
      },
      "outputs": [],
      "source": [
        "output_csv_file = './data_emotion.csv'\n",
        "\n",
        "# Save the DataFrame as a CSV file\n",
        "data_emotion.to_csv(output_csv_file, index=False)"
      ]
    },
    {
      "cell_type": "code",
      "execution_count": null,
      "metadata": {},
      "outputs": [],
      "source": []
    }
  ],
  "metadata": {
    "accelerator": "TPU",
    "colab": {
      "provenance": []
    },
    "kernelspec": {
      "display_name": "Python 3",
      "name": "python3"
    },
    "language_info": {
      "codemirror_mode": {
        "name": "ipython",
        "version": 3
      },
      "file_extension": ".py",
      "mimetype": "text/x-python",
      "name": "python",
      "nbconvert_exporter": "python",
      "pygments_lexer": "ipython3",
      "version": "3.8.15"
    }
  },
  "nbformat": 4,
  "nbformat_minor": 0
}
